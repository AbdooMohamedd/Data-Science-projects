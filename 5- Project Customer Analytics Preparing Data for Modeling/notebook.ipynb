{
 "cells": [
  {
   "cell_type": "markdown",
   "id": "a09e6d54-bf3f-4632-b299-bd49d5c80d5f",
   "metadata": {},
   "source": [
    "![Two data scientists working on a dashboard.](hr-image-small.png)\n",
    "\n",
    "A common problem when creating models to generate business value from data is that the datasets can be so large that it can take days for the model to generate predictions. Ensuring that your dataset is stored as efficiently as possible is crucial for allowing these models to run on a more reasonable timescale without having to reduce the size of the dataset.\n",
    "\n",
    "You've been hired by a major online data science training provider called *Training Data Ltd.* to clean up one of their largest customer datasets. This dataset will eventually be used to predict whether their students are looking for a new job or not, information that they will then use to direct them to prospective recruiters.\n",
    "\n",
    "You've been given access to `customer_train.csv`, which is a subset of their entire customer dataset, so you can create a proof-of-concept of a much more efficient storage solution. The dataset contains anonymized student information, and whether they were looking for a new job or not during training:\n",
    "\n",
    "| Column                   | Description                                                                      |\n",
    "|------------------------- |--------------------------------------------------------------------------------- |\n",
    "| `student_id`             | A unique ID for each student.                                                    |\n",
    "| `city`                   | A code for the city the student lives in.                                        |\n",
    "| `city_development_index` | A scaled development index for the city.                                         |\n",
    "| `gender`                 | The student's gender.                                                            |\n",
    "| `relevant_experience`    | An indicator of the student's work relevant experience.                          |\n",
    "| `enrolled_university`    | The type of university course enrolled in (if any).                              |\n",
    "| `education_level`        | The student's education level.                                                   |\n",
    "| `major_discipline`       | The educational discipline of the student.                                       |\n",
    "| `experience`             | The student's total work experience (in years).                                  |\n",
    "| `company_size`           | The number of employees at the student's current employer.                       |\n",
    "| `company_type`           | The type of company employing the student.                                       |\n",
    "| `last_new_job`           | The number of years between the student's current and previous jobs.             |\n",
    "| `training_hours`         | The number of hours of training completed.                                       |\n",
    "| `job_change`             | An indicator of whether the student is looking for a new job (`1`) or not (`0`). |"
   ]
  },
  {
   "cell_type": "code",
   "execution_count": 1,
   "id": "eda9c1b2-4e9a-41ac-8da6-d4c98775f986",
   "metadata": {
    "executionCancelledAt": null,
    "executionTime": 178,
    "lastExecutedAt": 1721239588158,
    "lastExecutedByKernel": "ff0dc782-f323-45c1-9926-1291129fe998",
    "lastScheduledRunId": null,
    "lastSuccessfullyExecutedCode": "# Import necessary libraries\nimport pandas as pd\nimport numpy as np\n\n# Load the dataset\nds_jobs = pd.read_csv(\"customer_train.csv\")\nds_jobs",
    "outputsMetadata": {
     "0": {
      "height": 335,
      "type": "dataFrame"
     }
    }
   },
   "outputs": [
    {
     "data": {
      "text/html": [
       "<div>\n",
       "<style scoped>\n",
       "    .dataframe tbody tr th:only-of-type {\n",
       "        vertical-align: middle;\n",
       "    }\n",
       "\n",
       "    .dataframe tbody tr th {\n",
       "        vertical-align: top;\n",
       "    }\n",
       "\n",
       "    .dataframe thead th {\n",
       "        text-align: right;\n",
       "    }\n",
       "</style>\n",
       "<table border=\"1\" class=\"dataframe\">\n",
       "  <thead>\n",
       "    <tr style=\"text-align: right;\">\n",
       "      <th></th>\n",
       "      <th>student_id</th>\n",
       "      <th>city</th>\n",
       "      <th>city_development_index</th>\n",
       "      <th>gender</th>\n",
       "      <th>relevant_experience</th>\n",
       "      <th>enrolled_university</th>\n",
       "      <th>education_level</th>\n",
       "      <th>major_discipline</th>\n",
       "      <th>experience</th>\n",
       "      <th>company_size</th>\n",
       "      <th>company_type</th>\n",
       "      <th>last_new_job</th>\n",
       "      <th>training_hours</th>\n",
       "      <th>job_change</th>\n",
       "    </tr>\n",
       "  </thead>\n",
       "  <tbody>\n",
       "    <tr>\n",
       "      <th>0</th>\n",
       "      <td>8949</td>\n",
       "      <td>city_103</td>\n",
       "      <td>0.920</td>\n",
       "      <td>Male</td>\n",
       "      <td>Has relevant experience</td>\n",
       "      <td>no_enrollment</td>\n",
       "      <td>Graduate</td>\n",
       "      <td>STEM</td>\n",
       "      <td>&gt;20</td>\n",
       "      <td>NaN</td>\n",
       "      <td>NaN</td>\n",
       "      <td>1</td>\n",
       "      <td>36</td>\n",
       "      <td>1.0</td>\n",
       "    </tr>\n",
       "    <tr>\n",
       "      <th>1</th>\n",
       "      <td>29725</td>\n",
       "      <td>city_40</td>\n",
       "      <td>0.776</td>\n",
       "      <td>Male</td>\n",
       "      <td>No relevant experience</td>\n",
       "      <td>no_enrollment</td>\n",
       "      <td>Graduate</td>\n",
       "      <td>STEM</td>\n",
       "      <td>15</td>\n",
       "      <td>50-99</td>\n",
       "      <td>Pvt Ltd</td>\n",
       "      <td>&gt;4</td>\n",
       "      <td>47</td>\n",
       "      <td>0.0</td>\n",
       "    </tr>\n",
       "    <tr>\n",
       "      <th>2</th>\n",
       "      <td>11561</td>\n",
       "      <td>city_21</td>\n",
       "      <td>0.624</td>\n",
       "      <td>NaN</td>\n",
       "      <td>No relevant experience</td>\n",
       "      <td>Full time course</td>\n",
       "      <td>Graduate</td>\n",
       "      <td>STEM</td>\n",
       "      <td>5</td>\n",
       "      <td>NaN</td>\n",
       "      <td>NaN</td>\n",
       "      <td>never</td>\n",
       "      <td>83</td>\n",
       "      <td>0.0</td>\n",
       "    </tr>\n",
       "    <tr>\n",
       "      <th>3</th>\n",
       "      <td>33241</td>\n",
       "      <td>city_115</td>\n",
       "      <td>0.789</td>\n",
       "      <td>NaN</td>\n",
       "      <td>No relevant experience</td>\n",
       "      <td>NaN</td>\n",
       "      <td>Graduate</td>\n",
       "      <td>Business Degree</td>\n",
       "      <td>&lt;1</td>\n",
       "      <td>NaN</td>\n",
       "      <td>Pvt Ltd</td>\n",
       "      <td>never</td>\n",
       "      <td>52</td>\n",
       "      <td>1.0</td>\n",
       "    </tr>\n",
       "    <tr>\n",
       "      <th>4</th>\n",
       "      <td>666</td>\n",
       "      <td>city_162</td>\n",
       "      <td>0.767</td>\n",
       "      <td>Male</td>\n",
       "      <td>Has relevant experience</td>\n",
       "      <td>no_enrollment</td>\n",
       "      <td>Masters</td>\n",
       "      <td>STEM</td>\n",
       "      <td>&gt;20</td>\n",
       "      <td>50-99</td>\n",
       "      <td>Funded Startup</td>\n",
       "      <td>4</td>\n",
       "      <td>8</td>\n",
       "      <td>0.0</td>\n",
       "    </tr>\n",
       "    <tr>\n",
       "      <th>...</th>\n",
       "      <td>...</td>\n",
       "      <td>...</td>\n",
       "      <td>...</td>\n",
       "      <td>...</td>\n",
       "      <td>...</td>\n",
       "      <td>...</td>\n",
       "      <td>...</td>\n",
       "      <td>...</td>\n",
       "      <td>...</td>\n",
       "      <td>...</td>\n",
       "      <td>...</td>\n",
       "      <td>...</td>\n",
       "      <td>...</td>\n",
       "      <td>...</td>\n",
       "    </tr>\n",
       "    <tr>\n",
       "      <th>19153</th>\n",
       "      <td>7386</td>\n",
       "      <td>city_173</td>\n",
       "      <td>0.878</td>\n",
       "      <td>Male</td>\n",
       "      <td>No relevant experience</td>\n",
       "      <td>no_enrollment</td>\n",
       "      <td>Graduate</td>\n",
       "      <td>Humanities</td>\n",
       "      <td>14</td>\n",
       "      <td>NaN</td>\n",
       "      <td>NaN</td>\n",
       "      <td>1</td>\n",
       "      <td>42</td>\n",
       "      <td>1.0</td>\n",
       "    </tr>\n",
       "    <tr>\n",
       "      <th>19154</th>\n",
       "      <td>31398</td>\n",
       "      <td>city_103</td>\n",
       "      <td>0.920</td>\n",
       "      <td>Male</td>\n",
       "      <td>Has relevant experience</td>\n",
       "      <td>no_enrollment</td>\n",
       "      <td>Graduate</td>\n",
       "      <td>STEM</td>\n",
       "      <td>14</td>\n",
       "      <td>NaN</td>\n",
       "      <td>NaN</td>\n",
       "      <td>4</td>\n",
       "      <td>52</td>\n",
       "      <td>1.0</td>\n",
       "    </tr>\n",
       "    <tr>\n",
       "      <th>19155</th>\n",
       "      <td>24576</td>\n",
       "      <td>city_103</td>\n",
       "      <td>0.920</td>\n",
       "      <td>Male</td>\n",
       "      <td>Has relevant experience</td>\n",
       "      <td>no_enrollment</td>\n",
       "      <td>Graduate</td>\n",
       "      <td>STEM</td>\n",
       "      <td>&gt;20</td>\n",
       "      <td>50-99</td>\n",
       "      <td>Pvt Ltd</td>\n",
       "      <td>4</td>\n",
       "      <td>44</td>\n",
       "      <td>0.0</td>\n",
       "    </tr>\n",
       "    <tr>\n",
       "      <th>19156</th>\n",
       "      <td>5756</td>\n",
       "      <td>city_65</td>\n",
       "      <td>0.802</td>\n",
       "      <td>Male</td>\n",
       "      <td>Has relevant experience</td>\n",
       "      <td>no_enrollment</td>\n",
       "      <td>High School</td>\n",
       "      <td>NaN</td>\n",
       "      <td>&lt;1</td>\n",
       "      <td>500-999</td>\n",
       "      <td>Pvt Ltd</td>\n",
       "      <td>2</td>\n",
       "      <td>97</td>\n",
       "      <td>0.0</td>\n",
       "    </tr>\n",
       "    <tr>\n",
       "      <th>19157</th>\n",
       "      <td>23834</td>\n",
       "      <td>city_67</td>\n",
       "      <td>0.855</td>\n",
       "      <td>NaN</td>\n",
       "      <td>No relevant experience</td>\n",
       "      <td>no_enrollment</td>\n",
       "      <td>Primary School</td>\n",
       "      <td>NaN</td>\n",
       "      <td>2</td>\n",
       "      <td>NaN</td>\n",
       "      <td>NaN</td>\n",
       "      <td>1</td>\n",
       "      <td>127</td>\n",
       "      <td>0.0</td>\n",
       "    </tr>\n",
       "  </tbody>\n",
       "</table>\n",
       "<p>19158 rows × 14 columns</p>\n",
       "</div>"
      ],
      "text/plain": [
       "       student_id      city  city_development_index gender  \\\n",
       "0            8949  city_103                   0.920   Male   \n",
       "1           29725   city_40                   0.776   Male   \n",
       "2           11561   city_21                   0.624    NaN   \n",
       "3           33241  city_115                   0.789    NaN   \n",
       "4             666  city_162                   0.767   Male   \n",
       "...           ...       ...                     ...    ...   \n",
       "19153        7386  city_173                   0.878   Male   \n",
       "19154       31398  city_103                   0.920   Male   \n",
       "19155       24576  city_103                   0.920   Male   \n",
       "19156        5756   city_65                   0.802   Male   \n",
       "19157       23834   city_67                   0.855    NaN   \n",
       "\n",
       "           relevant_experience enrolled_university education_level  \\\n",
       "0      Has relevant experience       no_enrollment        Graduate   \n",
       "1       No relevant experience       no_enrollment        Graduate   \n",
       "2       No relevant experience    Full time course        Graduate   \n",
       "3       No relevant experience                 NaN        Graduate   \n",
       "4      Has relevant experience       no_enrollment         Masters   \n",
       "...                        ...                 ...             ...   \n",
       "19153   No relevant experience       no_enrollment        Graduate   \n",
       "19154  Has relevant experience       no_enrollment        Graduate   \n",
       "19155  Has relevant experience       no_enrollment        Graduate   \n",
       "19156  Has relevant experience       no_enrollment     High School   \n",
       "19157   No relevant experience       no_enrollment  Primary School   \n",
       "\n",
       "      major_discipline experience company_size    company_type last_new_job  \\\n",
       "0                 STEM        >20          NaN             NaN            1   \n",
       "1                 STEM         15        50-99         Pvt Ltd           >4   \n",
       "2                 STEM          5          NaN             NaN        never   \n",
       "3      Business Degree         <1          NaN         Pvt Ltd        never   \n",
       "4                 STEM        >20        50-99  Funded Startup            4   \n",
       "...                ...        ...          ...             ...          ...   \n",
       "19153       Humanities         14          NaN             NaN            1   \n",
       "19154             STEM         14          NaN             NaN            4   \n",
       "19155             STEM        >20        50-99         Pvt Ltd            4   \n",
       "19156              NaN         <1      500-999         Pvt Ltd            2   \n",
       "19157              NaN          2          NaN             NaN            1   \n",
       "\n",
       "       training_hours  job_change  \n",
       "0                  36         1.0  \n",
       "1                  47         0.0  \n",
       "2                  83         0.0  \n",
       "3                  52         1.0  \n",
       "4                   8         0.0  \n",
       "...               ...         ...  \n",
       "19153              42         1.0  \n",
       "19154              52         1.0  \n",
       "19155              44         0.0  \n",
       "19156              97         0.0  \n",
       "19157             127         0.0  \n",
       "\n",
       "[19158 rows x 14 columns]"
      ]
     },
     "execution_count": 1,
     "metadata": {},
     "output_type": "execute_result"
    }
   ],
   "source": [
    "# Import necessary libraries\n",
    "import pandas as pd\n",
    "import numpy as np\n",
    "\n",
    "# Load the dataset\n",
    "ds_jobs = pd.read_csv(\"customer_train.csv\")\n",
    "ds_jobs"
   ]
  },
  {
   "cell_type": "code",
   "execution_count": 2,
   "id": "13757e62-aca2-48f4-b569-a838af11bdd5",
   "metadata": {
    "executionCancelledAt": null,
    "executionTime": 50,
    "lastExecutedAt": 1721239588208,
    "lastExecutedByKernel": "ff0dc782-f323-45c1-9926-1291129fe998",
    "lastScheduledRunId": null,
    "lastSuccessfullyExecutedCode": "# Create a copy of ds_jobs for transforming\ndf = ds_jobs.copy()\n\n# take a look at the dataframe info\ndf.info()",
    "outputsMetadata": {
     "0": {
      "height": 458,
      "type": "stream"
     }
    }
   },
   "outputs": [
    {
     "name": "stdout",
     "output_type": "stream",
     "text": [
      "<class 'pandas.core.frame.DataFrame'>\n",
      "RangeIndex: 19158 entries, 0 to 19157\n",
      "Data columns (total 14 columns):\n",
      " #   Column                  Non-Null Count  Dtype  \n",
      "---  ------                  --------------  -----  \n",
      " 0   student_id              19158 non-null  int64  \n",
      " 1   city                    19158 non-null  object \n",
      " 2   city_development_index  19158 non-null  float64\n",
      " 3   gender                  14650 non-null  object \n",
      " 4   relevant_experience     19158 non-null  object \n",
      " 5   enrolled_university     18772 non-null  object \n",
      " 6   education_level         18698 non-null  object \n",
      " 7   major_discipline        16345 non-null  object \n",
      " 8   experience              19093 non-null  object \n",
      " 9   company_size            13220 non-null  object \n",
      " 10  company_type            13018 non-null  object \n",
      " 11  last_new_job            18735 non-null  object \n",
      " 12  training_hours          19158 non-null  int64  \n",
      " 13  job_change              19158 non-null  float64\n",
      "dtypes: float64(2), int64(2), object(10)\n",
      "memory usage: 2.0+ MB\n"
     ]
    }
   ],
   "source": [
    "# Create a copy of ds_jobs for transforming\n",
    "df = ds_jobs.copy()\n",
    "\n",
    "# take a look at the dataframe info\n",
    "df.info()"
   ]
  },
  {
   "cell_type": "code",
   "execution_count": 3,
   "id": "f37e1092-0be0-4aa4-98f9-72895943ac68",
   "metadata": {
    "executionCancelledAt": null,
    "executionTime": 51,
    "lastExecutedAt": 1721239588259,
    "lastExecutedByKernel": "ff0dc782-f323-45c1-9926-1291129fe998",
    "lastScheduledRunId": null,
    "lastSuccessfullyExecutedCode": "# take a look at the memory each column use\ndf.memory_usage()",
    "outputsMetadata": {
     "0": {
      "height": 318,
      "type": "dataFrame"
     }
    }
   },
   "outputs": [
    {
     "data": {
      "text/plain": [
       "Index                        128\n",
       "student_id                153264\n",
       "city                      153264\n",
       "city_development_index    153264\n",
       "gender                    153264\n",
       "relevant_experience       153264\n",
       "enrolled_university       153264\n",
       "education_level           153264\n",
       "major_discipline          153264\n",
       "experience                153264\n",
       "company_size              153264\n",
       "company_type              153264\n",
       "last_new_job              153264\n",
       "training_hours            153264\n",
       "job_change                153264\n",
       "dtype: int64"
      ]
     },
     "execution_count": 3,
     "metadata": {},
     "output_type": "execute_result"
    }
   ],
   "source": [
    "# take a look at the memory each column use\n",
    "df.memory_usage()"
   ]
  },
  {
   "cell_type": "code",
   "execution_count": 4,
   "id": "d37621dd-7b4a-4e2f-8d16-448c52e39114",
   "metadata": {
    "executionCancelledAt": null,
    "executionTime": 59,
    "lastExecutedAt": 1721239588319,
    "lastExecutedByKernel": "ff0dc782-f323-45c1-9926-1291129fe998",
    "lastScheduledRunId": null,
    "lastSuccessfullyExecutedCode": "# EDA to help identify ordinal, nominal, and two-factor categories\nfor col in ds_jobs.select_dtypes(\"object\").columns:\n    print(df[col].value_counts(), '\\n')",
    "outputsMetadata": {
     "0": {
      "height": 475,
      "type": "stream"
     }
    }
   },
   "outputs": [
    {
     "name": "stdout",
     "output_type": "stream",
     "text": [
      "city_103    4355\n",
      "city_21     2702\n",
      "city_16     1533\n",
      "city_114    1336\n",
      "city_160     845\n",
      "            ... \n",
      "city_129       3\n",
      "city_111       3\n",
      "city_121       3\n",
      "city_140       1\n",
      "city_171       1\n",
      "Name: city, Length: 123, dtype: int64 \n",
      "\n",
      "Male      13221\n",
      "Female     1238\n",
      "Other       191\n",
      "Name: gender, dtype: int64 \n",
      "\n",
      "Has relevant experience    13792\n",
      "No relevant experience      5366\n",
      "Name: relevant_experience, dtype: int64 \n",
      "\n",
      "no_enrollment       13817\n",
      "Full time course     3757\n",
      "Part time course     1198\n",
      "Name: enrolled_university, dtype: int64 \n",
      "\n",
      "Graduate          11598\n",
      "Masters            4361\n",
      "High School        2017\n",
      "Phd                 414\n",
      "Primary School      308\n",
      "Name: education_level, dtype: int64 \n",
      "\n",
      "STEM               14492\n",
      "Humanities           669\n",
      "Other                381\n",
      "Business Degree      327\n",
      "Arts                 253\n",
      "No Major             223\n",
      "Name: major_discipline, dtype: int64 \n",
      "\n",
      ">20    3286\n",
      "5      1430\n",
      "4      1403\n",
      "3      1354\n",
      "6      1216\n",
      "2      1127\n",
      "7      1028\n",
      "10      985\n",
      "9       980\n",
      "8       802\n",
      "15      686\n",
      "11      664\n",
      "14      586\n",
      "1       549\n",
      "<1      522\n",
      "16      508\n",
      "12      494\n",
      "13      399\n",
      "17      342\n",
      "19      304\n",
      "18      280\n",
      "20      148\n",
      "Name: experience, dtype: int64 \n",
      "\n",
      "50-99        3083\n",
      "100-499      2571\n",
      "10000+       2019\n",
      "10-49        1471\n",
      "1000-4999    1328\n",
      "<10          1308\n",
      "500-999       877\n",
      "5000-9999     563\n",
      "Name: company_size, dtype: int64 \n",
      "\n",
      "Pvt Ltd                9817\n",
      "Funded Startup         1001\n",
      "Public Sector           955\n",
      "Early Stage Startup     603\n",
      "NGO                     521\n",
      "Other                   121\n",
      "Name: company_type, dtype: int64 \n",
      "\n",
      "1        8040\n",
      ">4       3290\n",
      "2        2900\n",
      "never    2452\n",
      "4        1029\n",
      "3        1024\n",
      "Name: last_new_job, dtype: int64 \n",
      "\n"
     ]
    }
   ],
   "source": [
    "# EDA to help identify ordinal, nominal, and two-factor categories\n",
    "for col in ds_jobs.select_dtypes(\"object\").columns:\n",
    "    print(df[col].value_counts(), '\\n')"
   ]
  },
  {
   "cell_type": "markdown",
   "id": "312b7486-0b0b-417f-a69d-337d07674c40",
   "metadata": {},
   "source": [
    "# Columns containing categories with only two factors must be stored as Booleans (bool)."
   ]
  },
  {
   "cell_type": "code",
   "execution_count": 5,
   "id": "1c1b1eb2-0de5-4cf6-b105-ad74ab9be878",
   "metadata": {
    "executionCancelledAt": null,
    "executionTime": 51,
    "lastExecutedAt": 1721239588371,
    "lastExecutedByKernel": "ff0dc782-f323-45c1-9926-1291129fe998",
    "lastScheduledRunId": null,
    "lastSuccessfullyExecutedCode": "# check for columns that have only two factors\nfor x in df.columns:\n    print(f\"number of unique values in column {x} is: {df[x].nunique()}\")\n    \n# columns [\"relevant_experience\", \"job_change\"]",
    "outputsMetadata": {
     "0": {
      "height": 311,
      "type": "stream"
     }
    }
   },
   "outputs": [
    {
     "name": "stdout",
     "output_type": "stream",
     "text": [
      "number of unique values in column student_id is: 19158\n",
      "number of unique values in column city is: 123\n",
      "number of unique values in column city_development_index is: 93\n",
      "number of unique values in column gender is: 3\n",
      "number of unique values in column relevant_experience is: 2\n",
      "number of unique values in column enrolled_university is: 3\n",
      "number of unique values in column education_level is: 5\n",
      "number of unique values in column major_discipline is: 6\n",
      "number of unique values in column experience is: 22\n",
      "number of unique values in column company_size is: 8\n",
      "number of unique values in column company_type is: 6\n",
      "number of unique values in column last_new_job is: 6\n",
      "number of unique values in column training_hours is: 241\n",
      "number of unique values in column job_change is: 2\n"
     ]
    }
   ],
   "source": [
    "# check for columns that have only two factors\n",
    "for x in df.columns:\n",
    "    print(f\"number of unique values in column {x} is: {df[x].nunique()}\")\n",
    "    \n",
    "# columns [\"relevant_experience\", \"job_change\"]"
   ]
  },
  {
   "cell_type": "code",
   "execution_count": 6,
   "id": "91c0ccb9-7475-4da7-85d7-0db0609a72e6",
   "metadata": {
    "executionCancelledAt": null,
    "executionTime": 51,
    "lastExecutedAt": 1721239588423,
    "lastExecutedByKernel": "ff0dc782-f323-45c1-9926-1291129fe998",
    "lastScheduledRunId": null,
    "lastSuccessfullyExecutedCode": "rel_ex = {\"Has relevant experience\" : True, \"No relevant experience\" : False}\ndf[\"relevant_experience\"] = df[\"relevant_experience\"].replace(rel_ex) \n\njob_change = {1.0: True, 0.0: False}\ndf[\"job_change\"] = df[\"job_change\"].replace(job_change)\n\ndf[[\"relevant_experience\", \"job_change\"]].head()",
    "outputsMetadata": {
     "0": {
      "height": 194,
      "type": "dataFrame"
     }
    }
   },
   "outputs": [
    {
     "data": {
      "text/html": [
       "<div>\n",
       "<style scoped>\n",
       "    .dataframe tbody tr th:only-of-type {\n",
       "        vertical-align: middle;\n",
       "    }\n",
       "\n",
       "    .dataframe tbody tr th {\n",
       "        vertical-align: top;\n",
       "    }\n",
       "\n",
       "    .dataframe thead th {\n",
       "        text-align: right;\n",
       "    }\n",
       "</style>\n",
       "<table border=\"1\" class=\"dataframe\">\n",
       "  <thead>\n",
       "    <tr style=\"text-align: right;\">\n",
       "      <th></th>\n",
       "      <th>relevant_experience</th>\n",
       "      <th>job_change</th>\n",
       "    </tr>\n",
       "  </thead>\n",
       "  <tbody>\n",
       "    <tr>\n",
       "      <th>0</th>\n",
       "      <td>True</td>\n",
       "      <td>True</td>\n",
       "    </tr>\n",
       "    <tr>\n",
       "      <th>1</th>\n",
       "      <td>False</td>\n",
       "      <td>False</td>\n",
       "    </tr>\n",
       "    <tr>\n",
       "      <th>2</th>\n",
       "      <td>False</td>\n",
       "      <td>False</td>\n",
       "    </tr>\n",
       "    <tr>\n",
       "      <th>3</th>\n",
       "      <td>False</td>\n",
       "      <td>True</td>\n",
       "    </tr>\n",
       "    <tr>\n",
       "      <th>4</th>\n",
       "      <td>True</td>\n",
       "      <td>False</td>\n",
       "    </tr>\n",
       "  </tbody>\n",
       "</table>\n",
       "</div>"
      ],
      "text/plain": [
       "   relevant_experience  job_change\n",
       "0                 True        True\n",
       "1                False       False\n",
       "2                False       False\n",
       "3                False        True\n",
       "4                 True       False"
      ]
     },
     "execution_count": 6,
     "metadata": {},
     "output_type": "execute_result"
    }
   ],
   "source": [
    "rel_ex = {\"Has relevant experience\" : True, \"No relevant experience\" : False}\n",
    "df[\"relevant_experience\"] = df[\"relevant_experience\"].replace(rel_ex) \n",
    "\n",
    "job_change = {1.0: True, 0.0: False}\n",
    "df[\"job_change\"] = df[\"job_change\"].replace(job_change)\n",
    "\n",
    "df[[\"relevant_experience\", \"job_change\"]].head()"
   ]
  },
  {
   "cell_type": "markdown",
   "id": "4c7504ee-7ad9-4ec7-a43f-5b5975eaa0c2",
   "metadata": {},
   "source": [
    "# Columns containing integers only must be stored as 32-bit integers (int32)."
   ]
  },
  {
   "cell_type": "code",
   "execution_count": 7,
   "id": "ee78a42a-1ff0-4a38-826c-e2d15f741643",
   "metadata": {
    "executionCancelledAt": null,
    "executionTime": 52,
    "lastExecutedAt": 1721239588476,
    "lastExecutedByKernel": "ff0dc782-f323-45c1-9926-1291129fe998",
    "lastScheduledRunId": null,
    "lastSuccessfullyExecutedCode": "# check for columns containing integers only\nfor x in df.columns:\n    print(f\"the datatype foe the column {x} is: {df[x].dtype}\")\n\n# integer [\"student_id\", \"training_hours\"]\n# float [\"city_development_index\"]\n# nominal categorical (without order) [\"city\", \"gender\", \"major_discipline\", \"company_type\"]\n# ordinal categorical data (with order) [\"education_level\", \"experience\", \"company_size\", \"last_new_job\"]",
    "outputsMetadata": {
     "0": {
      "height": 311,
      "type": "stream"
     }
    }
   },
   "outputs": [
    {
     "name": "stdout",
     "output_type": "stream",
     "text": [
      "the datatype foe the column student_id is: int64\n",
      "the datatype foe the column city is: object\n",
      "the datatype foe the column city_development_index is: float64\n",
      "the datatype foe the column gender is: object\n",
      "the datatype foe the column relevant_experience is: bool\n",
      "the datatype foe the column enrolled_university is: object\n",
      "the datatype foe the column education_level is: object\n",
      "the datatype foe the column major_discipline is: object\n",
      "the datatype foe the column experience is: object\n",
      "the datatype foe the column company_size is: object\n",
      "the datatype foe the column company_type is: object\n",
      "the datatype foe the column last_new_job is: object\n",
      "the datatype foe the column training_hours is: int64\n",
      "the datatype foe the column job_change is: bool\n"
     ]
    }
   ],
   "source": [
    "# check for columns containing integers only\n",
    "for x in df.columns:\n",
    "    print(f\"the datatype foe the column {x} is: {df[x].dtype}\")\n",
    "\n",
    "# integer [\"student_id\", \"training_hours\"]\n",
    "# float [\"city_development_index\"]\n",
    "# nominal categorical (without order) [\"city\", \"gender\", \"major_discipline\", \"company_type\"]\n",
    "# ordinal categorical data (with order) [\"education_level\", \"experience\", \"company_size\", \"last_new_job\"]"
   ]
  },
  {
   "cell_type": "code",
   "execution_count": 8,
   "id": "2d9dd4b5-048c-44d3-9308-4d659765955d",
   "metadata": {
    "executionCancelledAt": null,
    "executionTime": 48,
    "lastExecutedAt": 1721239588524,
    "lastExecutedByKernel": "ff0dc782-f323-45c1-9926-1291129fe998",
    "lastScheduledRunId": null,
    "lastSuccessfullyExecutedCode": "# integer [\"student_id\", \"training_hours\"]\n\ndf[\"student_id\"] = df[\"student_id\"].astype(np.int32)\n\ndf[\"training_hours\"] = df[\"training_hours\"].astype(np.int32)\n\nprint(df[\"student_id\"].dtype, df[\"training_hours\"].dtype)",
    "outputsMetadata": {
     "0": {
      "height": 38,
      "type": "stream"
     }
    }
   },
   "outputs": [
    {
     "name": "stdout",
     "output_type": "stream",
     "text": [
      "int32 int32\n"
     ]
    }
   ],
   "source": [
    "# integer [\"student_id\", \"training_hours\"]\n",
    "\n",
    "df[\"student_id\"] = df[\"student_id\"].astype(np.int32)\n",
    "\n",
    "df[\"training_hours\"] = df[\"training_hours\"].astype(np.int32)\n",
    "\n",
    "print(df[\"student_id\"].dtype, df[\"training_hours\"].dtype)"
   ]
  },
  {
   "cell_type": "markdown",
   "id": "8d45b570-b563-4d62-9075-76dff8aa362a",
   "metadata": {},
   "source": [
    "# Columns containing floats must be stored as 16-bit floats (float16)."
   ]
  },
  {
   "cell_type": "code",
   "execution_count": 9,
   "id": "fc26b86a-e7cf-4296-a682-e83dd3c65c56",
   "metadata": {
    "executionCancelledAt": null,
    "executionTime": 48,
    "lastExecutedAt": 1721239588572,
    "lastExecutedByKernel": "ff0dc782-f323-45c1-9926-1291129fe998",
    "lastScheduledRunId": null,
    "lastSuccessfullyExecutedCode": "# float [\"city_development_index\"]\n\ndf[\"city_development_index\"] = df[\"city_development_index\"].astype(np.float16)\n\nprint(df[\"city_development_index\"].dtype)",
    "outputsMetadata": {
     "0": {
      "height": 38,
      "type": "stream"
     }
    }
   },
   "outputs": [
    {
     "name": "stdout",
     "output_type": "stream",
     "text": [
      "float16\n"
     ]
    }
   ],
   "source": [
    "# float [\"city_development_index\"]\n",
    "\n",
    "df[\"city_development_index\"] = df[\"city_development_index\"].astype(np.float16)\n",
    "\n",
    "print(df[\"city_development_index\"].dtype)"
   ]
  },
  {
   "cell_type": "markdown",
   "id": "e1b65a85-04d1-4a31-bd5c-ca8856cd4a57",
   "metadata": {},
   "source": [
    "# Columns containing nominal categorical data must be stored as the category data type."
   ]
  },
  {
   "cell_type": "code",
   "execution_count": 10,
   "id": "2ccd3c7b-39d3-4f33-8f52-6605f129ebe2",
   "metadata": {
    "executionCancelledAt": null,
    "executionTime": 47,
    "lastExecutedAt": 1721239588619,
    "lastExecutedByKernel": "ff0dc782-f323-45c1-9926-1291129fe998",
    "lastScheduledRunId": null,
    "lastSuccessfullyExecutedCode": "# Columns containing nominal categorical data (means that does not have an order)\n# nominal categorical (without order) [\"city\", \"gender\", \"enrolled_university\", \"major_discipline\", \"company_type\"]\n\nnominal_cols = [\"city\", \"gender\", \"major_discipline\", \"company_type\"]\nfor col in nominal_cols: \n    df[col] = df[col].astype(\"category\")\n    print(f\"the column {col} datatype is: {df[col].dtype}\")",
    "outputsMetadata": {
     "0": {
      "height": 101,
      "type": "stream"
     }
    }
   },
   "outputs": [
    {
     "name": "stdout",
     "output_type": "stream",
     "text": [
      "the column city datatype is: category\n",
      "the column gender datatype is: category\n",
      "the column major_discipline datatype is: category\n",
      "the column company_type datatype is: category\n"
     ]
    }
   ],
   "source": [
    "# Columns containing nominal categorical data (means that does not have an order)\n",
    "# nominal categorical (without order) [\"city\", \"gender\", \"enrolled_university\", \"major_discipline\", \"company_type\"]\n",
    "\n",
    "nominal_cols = [\"city\", \"gender\", \"major_discipline\", \"company_type\"]\n",
    "for col in nominal_cols: \n",
    "    df[col] = df[col].astype(\"category\")\n",
    "    print(f\"the column {col} datatype is: {df[col].dtype}\")"
   ]
  },
  {
   "cell_type": "markdown",
   "id": "7a664823-d714-4a1a-90f3-56382037d50a",
   "metadata": {},
   "source": [
    "# Columns containing ordinal categorical data must be stored as ordered categories, and not mapped to numerical values, with an order that reflects the natural order of the column."
   ]
  },
  {
   "cell_type": "code",
   "execution_count": 11,
   "id": "9aa86d56-a5c2-4c30-a942-34dc7b9f549b",
   "metadata": {
    "executionCancelledAt": null,
    "executionTime": 57,
    "lastExecutedAt": 1721239588676,
    "lastExecutedByKernel": "ff0dc782-f323-45c1-9926-1291129fe998",
    "lastScheduledRunId": null,
    "lastSuccessfullyExecutedCode": "# Create a dictionary of columns containing ordered categorical data\nordered_cats = {\n    'enrolled_university': ['no_enrollment', 'Part time course', 'Full time course'],\n    'education_level': ['Primary School', 'High School', 'Graduate', 'Masters', 'Phd'],\n    'experience': ['<1'] + list(map(str, range(1, 21))) + ['>20'],\n    'company_size': ['<10', '10-49', '50-99', '100-499', '500-999', '1000-4999', '5000-9999', '10000+'],\n    'last_new_job': ['never', '1', '2', '3', '4', '>4']\n}\n\nfor col in ordered_cats.keys():\n    category = pd.CategoricalDtype(ordered_cats[col], ordered=True)\n    df[col] = df[col].astype(category)",
    "outputsMetadata": {
     "0": {
      "height": 458,
      "type": "stream"
     }
    }
   },
   "outputs": [],
   "source": [
    "# Create a dictionary of columns containing ordered categorical data\n",
    "ordered_cats = {\n",
    "    'enrolled_university': ['no_enrollment', 'Part time course', 'Full time course'],\n",
    "    'education_level': ['Primary School', 'High School', 'Graduate', 'Masters', 'Phd'],\n",
    "    'experience': ['<1'] + list(map(str, range(1, 21))) + ['>20'],\n",
    "    'company_size': ['<10', '10-49', '50-99', '100-499', '500-999', '1000-4999', '5000-9999', '10000+'],\n",
    "    'last_new_job': ['never', '1', '2', '3', '4', '>4']\n",
    "}\n",
    "\n",
    "for col in ordered_cats.keys():\n",
    "    category = pd.CategoricalDtype(ordered_cats[col], ordered=True)\n",
    "    df[col] = df[col].astype(category)"
   ]
  },
  {
   "cell_type": "markdown",
   "id": "b4c5c47d-031b-4d49-a662-e693c17e43ce",
   "metadata": {},
   "source": [
    "# The DataFrame should be filtered to only contain students with 10 or more years of experience at companies with at least 1000 employees, as their recruiter base is suited to more experienced professionals at enterprise companies."
   ]
  },
  {
   "cell_type": "code",
   "execution_count": 12,
   "id": "d895f5d2-454c-40c2-b4e0-f4b4dd4a3354",
   "metadata": {
    "executionCancelledAt": null,
    "executionTime": 52,
    "lastExecutedAt": 1721239588728,
    "lastExecutedByKernel": "ff0dc782-f323-45c1-9926-1291129fe998",
    "lastScheduledRunId": null,
    "lastSuccessfullyExecutedCode": "df = df[(df[\"experience\"] >= \"10\") & (df[\"company_size\"] >= \"1000-4999\")]\nds_jobs_transformed = df\nds_jobs_transformed.head()",
    "outputsMetadata": {
     "0": {
      "height": 211,
      "type": "dataFrame"
     }
    }
   },
   "outputs": [
    {
     "data": {
      "text/html": [
       "<div>\n",
       "<style scoped>\n",
       "    .dataframe tbody tr th:only-of-type {\n",
       "        vertical-align: middle;\n",
       "    }\n",
       "\n",
       "    .dataframe tbody tr th {\n",
       "        vertical-align: top;\n",
       "    }\n",
       "\n",
       "    .dataframe thead th {\n",
       "        text-align: right;\n",
       "    }\n",
       "</style>\n",
       "<table border=\"1\" class=\"dataframe\">\n",
       "  <thead>\n",
       "    <tr style=\"text-align: right;\">\n",
       "      <th></th>\n",
       "      <th>student_id</th>\n",
       "      <th>city</th>\n",
       "      <th>city_development_index</th>\n",
       "      <th>gender</th>\n",
       "      <th>relevant_experience</th>\n",
       "      <th>enrolled_university</th>\n",
       "      <th>education_level</th>\n",
       "      <th>major_discipline</th>\n",
       "      <th>experience</th>\n",
       "      <th>company_size</th>\n",
       "      <th>company_type</th>\n",
       "      <th>last_new_job</th>\n",
       "      <th>training_hours</th>\n",
       "      <th>job_change</th>\n",
       "    </tr>\n",
       "  </thead>\n",
       "  <tbody>\n",
       "    <tr>\n",
       "      <th>9</th>\n",
       "      <td>699</td>\n",
       "      <td>city_103</td>\n",
       "      <td>0.919922</td>\n",
       "      <td>NaN</td>\n",
       "      <td>True</td>\n",
       "      <td>no_enrollment</td>\n",
       "      <td>Graduate</td>\n",
       "      <td>STEM</td>\n",
       "      <td>17</td>\n",
       "      <td>10000+</td>\n",
       "      <td>Pvt Ltd</td>\n",
       "      <td>&gt;4</td>\n",
       "      <td>123</td>\n",
       "      <td>False</td>\n",
       "    </tr>\n",
       "    <tr>\n",
       "      <th>12</th>\n",
       "      <td>25619</td>\n",
       "      <td>city_61</td>\n",
       "      <td>0.913086</td>\n",
       "      <td>Male</td>\n",
       "      <td>True</td>\n",
       "      <td>no_enrollment</td>\n",
       "      <td>Graduate</td>\n",
       "      <td>STEM</td>\n",
       "      <td>&gt;20</td>\n",
       "      <td>1000-4999</td>\n",
       "      <td>Pvt Ltd</td>\n",
       "      <td>3</td>\n",
       "      <td>23</td>\n",
       "      <td>False</td>\n",
       "    </tr>\n",
       "    <tr>\n",
       "      <th>31</th>\n",
       "      <td>22293</td>\n",
       "      <td>city_103</td>\n",
       "      <td>0.919922</td>\n",
       "      <td>Male</td>\n",
       "      <td>True</td>\n",
       "      <td>Part time course</td>\n",
       "      <td>Graduate</td>\n",
       "      <td>STEM</td>\n",
       "      <td>19</td>\n",
       "      <td>5000-9999</td>\n",
       "      <td>Pvt Ltd</td>\n",
       "      <td>&gt;4</td>\n",
       "      <td>141</td>\n",
       "      <td>False</td>\n",
       "    </tr>\n",
       "    <tr>\n",
       "      <th>34</th>\n",
       "      <td>26494</td>\n",
       "      <td>city_16</td>\n",
       "      <td>0.910156</td>\n",
       "      <td>Male</td>\n",
       "      <td>True</td>\n",
       "      <td>no_enrollment</td>\n",
       "      <td>Graduate</td>\n",
       "      <td>Business Degree</td>\n",
       "      <td>12</td>\n",
       "      <td>5000-9999</td>\n",
       "      <td>Pvt Ltd</td>\n",
       "      <td>3</td>\n",
       "      <td>145</td>\n",
       "      <td>False</td>\n",
       "    </tr>\n",
       "    <tr>\n",
       "      <th>40</th>\n",
       "      <td>2547</td>\n",
       "      <td>city_114</td>\n",
       "      <td>0.925781</td>\n",
       "      <td>Female</td>\n",
       "      <td>True</td>\n",
       "      <td>Full time course</td>\n",
       "      <td>Masters</td>\n",
       "      <td>STEM</td>\n",
       "      <td>16</td>\n",
       "      <td>1000-4999</td>\n",
       "      <td>Public Sector</td>\n",
       "      <td>2</td>\n",
       "      <td>14</td>\n",
       "      <td>False</td>\n",
       "    </tr>\n",
       "  </tbody>\n",
       "</table>\n",
       "</div>"
      ],
      "text/plain": [
       "    student_id      city  city_development_index  gender  relevant_experience  \\\n",
       "9          699  city_103                0.919922     NaN                 True   \n",
       "12       25619   city_61                0.913086    Male                 True   \n",
       "31       22293  city_103                0.919922    Male                 True   \n",
       "34       26494   city_16                0.910156    Male                 True   \n",
       "40        2547  city_114                0.925781  Female                 True   \n",
       "\n",
       "   enrolled_university education_level major_discipline experience  \\\n",
       "9        no_enrollment        Graduate             STEM         17   \n",
       "12       no_enrollment        Graduate             STEM        >20   \n",
       "31    Part time course        Graduate             STEM         19   \n",
       "34       no_enrollment        Graduate  Business Degree         12   \n",
       "40    Full time course         Masters             STEM         16   \n",
       "\n",
       "   company_size   company_type last_new_job  training_hours  job_change  \n",
       "9        10000+        Pvt Ltd           >4             123       False  \n",
       "12    1000-4999        Pvt Ltd            3              23       False  \n",
       "31    5000-9999        Pvt Ltd           >4             141       False  \n",
       "34    5000-9999        Pvt Ltd            3             145       False  \n",
       "40    1000-4999  Public Sector            2              14       False  "
      ]
     },
     "execution_count": 12,
     "metadata": {},
     "output_type": "execute_result"
    }
   ],
   "source": [
    "df = df[(df[\"experience\"] >= \"10\") & (df[\"company_size\"] >= \"1000-4999\")]\n",
    "ds_jobs_transformed = df\n",
    "ds_jobs_transformed.head()"
   ]
  },
  {
   "cell_type": "code",
   "execution_count": 13,
   "id": "6683b91a-4cba-41c3-8a3a-93f0a194596a",
   "metadata": {
    "executionCancelledAt": null,
    "executionTime": 55,
    "lastExecutedAt": 1721239588783,
    "lastExecutedByKernel": "ff0dc782-f323-45c1-9926-1291129fe998",
    "lastScheduledRunId": null,
    "lastSuccessfullyExecutedCode": "ds_jobs_transformed.info()",
    "outputsMetadata": {
     "0": {
      "height": 458,
      "type": "stream"
     }
    }
   },
   "outputs": [
    {
     "name": "stdout",
     "output_type": "stream",
     "text": [
      "<class 'pandas.core.frame.DataFrame'>\n",
      "Int64Index: 2201 entries, 9 to 19143\n",
      "Data columns (total 14 columns):\n",
      " #   Column                  Non-Null Count  Dtype   \n",
      "---  ------                  --------------  -----   \n",
      " 0   student_id              2201 non-null   int32   \n",
      " 1   city                    2201 non-null   category\n",
      " 2   city_development_index  2201 non-null   float16 \n",
      " 3   gender                  1821 non-null   category\n",
      " 4   relevant_experience     2201 non-null   bool    \n",
      " 5   enrolled_university     2185 non-null   category\n",
      " 6   education_level         2184 non-null   category\n",
      " 7   major_discipline        2097 non-null   category\n",
      " 8   experience              2201 non-null   category\n",
      " 9   company_size            2201 non-null   category\n",
      " 10  company_type            2144 non-null   category\n",
      " 11  last_new_job            2184 non-null   category\n",
      " 12  training_hours          2201 non-null   int32   \n",
      " 13  job_change              2201 non-null   bool    \n",
      "dtypes: bool(2), category(9), float16(1), int32(2)\n",
      "memory usage: 69.5 KB\n"
     ]
    }
   ],
   "source": [
    "ds_jobs_transformed.info()"
   ]
  },
  {
   "cell_type": "code",
   "execution_count": 14,
   "id": "08f34c99-ae10-4ad3-9428-edf26d71775e",
   "metadata": {
    "executionCancelledAt": null,
    "executionTime": 54,
    "lastExecutedAt": 1721239588837,
    "lastExecutedByKernel": "ff0dc782-f323-45c1-9926-1291129fe998",
    "lastScheduledRunId": null,
    "lastSuccessfullyExecutedCode": "ds_jobs_transformed.memory_usage()",
    "outputsMetadata": {
     "0": {
      "height": 318,
      "type": "dataFrame"
     }
    }
   },
   "outputs": [
    {
     "data": {
      "text/plain": [
       "Index                     17608\n",
       "student_id                 8804\n",
       "city                       7353\n",
       "city_development_index     4402\n",
       "gender                     2333\n",
       "relevant_experience        2201\n",
       "enrolled_university        2333\n",
       "education_level            2413\n",
       "major_discipline           2421\n",
       "experience                 2933\n",
       "company_size               2565\n",
       "company_type               2421\n",
       "last_new_job               2421\n",
       "training_hours             8804\n",
       "job_change                 2201\n",
       "dtype: int64"
      ]
     },
     "execution_count": 14,
     "metadata": {},
     "output_type": "execute_result"
    }
   ],
   "source": [
    "ds_jobs_transformed.memory_usage()"
   ]
  },
  {
   "cell_type": "markdown",
   "id": "20ec664b-ed88-4593-933a-5847a111e09d",
   "metadata": {},
   "source": [
    "## now we can notice a substantial decrease in memory usage which will make the modeling much faster and more efficient"
   ]
  }
 ],
 "metadata": {
  "editor": "DataLab",
  "kernelspec": {
   "display_name": "Python 3 (ipykernel)",
   "language": "python",
   "name": "python3"
  },
  "language_info": {
   "codemirror_mode": {
    "name": "ipython",
    "version": 3
   },
   "file_extension": ".py",
   "mimetype": "text/x-python",
   "name": "python",
   "nbconvert_exporter": "python",
   "pygments_lexer": "ipython3",
   "version": "3.9.13"
  }
 },
 "nbformat": 4,
 "nbformat_minor": 5
}
