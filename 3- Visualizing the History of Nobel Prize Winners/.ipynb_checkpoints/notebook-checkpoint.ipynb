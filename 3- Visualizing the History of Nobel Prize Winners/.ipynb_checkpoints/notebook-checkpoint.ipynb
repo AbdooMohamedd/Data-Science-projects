{
 "cells": [
  {
   "cell_type": "markdown",
   "id": "db5bd2ce-918a-4f7d-a927-a3ea74c4b456",
   "metadata": {},
   "source": [
    "The Nobel Prize has been among the most prestigious international awards since 1901. Each year, awards are bestowed in chemistry, literature, physics, physiology or medicine, economics, and peace. In addition to the honor, prestige, and substantial prize money, the recipient also gets a gold medal with an image of Alfred Nobel (1833 - 1896), who established the prize.\n",
    "\n",
    "![](Nobel_Prize.png)\n",
    "\n",
    "The Nobel Foundation has made a dataset available of all prize winners from the outset of the awards from 1901 to 2023. The dataset used in this project is from the Nobel Prize API and is available in the `nobel.csv` file in the `data` folder.\n",
    "\n",
    "In this project, you'll get a chance to explore and answer several questions related to this prizewinning data. And we encourage you then to explore further questions that you're interested in!"
   ]
  },
  {
   "cell_type": "code",
   "execution_count": 5,
   "id": "11fd5946-7bd1-495c-aa7f-ff6e7e4a350b",
   "metadata": {
    "executionCancelledAt": null,
    "executionTime": 44,
    "lastExecutedAt": 1720364129503,
    "lastExecutedByKernel": "cb0aeeaf-f8c8-48af-8f78-8c50254a7153",
    "lastScheduledRunId": null,
    "lastSuccessfullyExecutedCode": "# Loading in required libraries\nimport pandas as pd\nimport seaborn as sns\nimport numpy as np\nimport matplotlib.pyplot as plt\n\ndf = pd.read_csv(\"data/nobel.csv\")\ndf.head()",
    "outputsMetadata": {
     "0": {
      "height": 211,
      "type": "dataFrame"
     }
    }
   },
   "outputs": [
    {
     "data": {
      "text/html": [
       "<div>\n",
       "<style scoped>\n",
       "    .dataframe tbody tr th:only-of-type {\n",
       "        vertical-align: middle;\n",
       "    }\n",
       "\n",
       "    .dataframe tbody tr th {\n",
       "        vertical-align: top;\n",
       "    }\n",
       "\n",
       "    .dataframe thead th {\n",
       "        text-align: right;\n",
       "    }\n",
       "</style>\n",
       "<table border=\"1\" class=\"dataframe\">\n",
       "  <thead>\n",
       "    <tr style=\"text-align: right;\">\n",
       "      <th></th>\n",
       "      <th>year</th>\n",
       "      <th>category</th>\n",
       "      <th>prize</th>\n",
       "      <th>motivation</th>\n",
       "      <th>prize_share</th>\n",
       "      <th>laureate_id</th>\n",
       "      <th>laureate_type</th>\n",
       "      <th>full_name</th>\n",
       "      <th>birth_date</th>\n",
       "      <th>birth_city</th>\n",
       "      <th>birth_country</th>\n",
       "      <th>sex</th>\n",
       "      <th>organization_name</th>\n",
       "      <th>organization_city</th>\n",
       "      <th>organization_country</th>\n",
       "      <th>death_date</th>\n",
       "      <th>death_city</th>\n",
       "      <th>death_country</th>\n",
       "    </tr>\n",
       "  </thead>\n",
       "  <tbody>\n",
       "    <tr>\n",
       "      <th>0</th>\n",
       "      <td>1901</td>\n",
       "      <td>Chemistry</td>\n",
       "      <td>The Nobel Prize in Chemistry 1901</td>\n",
       "      <td>\"in recognition of the extraordinary services ...</td>\n",
       "      <td>01/01/2024</td>\n",
       "      <td>160</td>\n",
       "      <td>Individual</td>\n",
       "      <td>Jacobus Henricus van 't Hoff</td>\n",
       "      <td>1852-08-30</td>\n",
       "      <td>Rotterdam</td>\n",
       "      <td>Netherlands</td>\n",
       "      <td>Male</td>\n",
       "      <td>Berlin University</td>\n",
       "      <td>Berlin</td>\n",
       "      <td>Germany</td>\n",
       "      <td>1911-03-01</td>\n",
       "      <td>Berlin</td>\n",
       "      <td>Germany</td>\n",
       "    </tr>\n",
       "    <tr>\n",
       "      <th>1</th>\n",
       "      <td>1901</td>\n",
       "      <td>Literature</td>\n",
       "      <td>The Nobel Prize in Literature 1901</td>\n",
       "      <td>\"in special recognition of his poetic composit...</td>\n",
       "      <td>01/01/2024</td>\n",
       "      <td>569</td>\n",
       "      <td>Individual</td>\n",
       "      <td>Sully Prudhomme</td>\n",
       "      <td>1839-03-16</td>\n",
       "      <td>Paris</td>\n",
       "      <td>France</td>\n",
       "      <td>Male</td>\n",
       "      <td>NaN</td>\n",
       "      <td>NaN</td>\n",
       "      <td>NaN</td>\n",
       "      <td>1907-09-07</td>\n",
       "      <td>Châtenay</td>\n",
       "      <td>France</td>\n",
       "    </tr>\n",
       "    <tr>\n",
       "      <th>2</th>\n",
       "      <td>1901</td>\n",
       "      <td>Medicine</td>\n",
       "      <td>The Nobel Prize in Physiology or Medicine 1901</td>\n",
       "      <td>\"for his work on serum therapy, especially its...</td>\n",
       "      <td>01/01/2024</td>\n",
       "      <td>293</td>\n",
       "      <td>Individual</td>\n",
       "      <td>Emil Adolf von Behring</td>\n",
       "      <td>1854-03-15</td>\n",
       "      <td>Hansdorf (Lawice)</td>\n",
       "      <td>Prussia (Poland)</td>\n",
       "      <td>Male</td>\n",
       "      <td>Marburg University</td>\n",
       "      <td>Marburg</td>\n",
       "      <td>Germany</td>\n",
       "      <td>1917-03-31</td>\n",
       "      <td>Marburg</td>\n",
       "      <td>Germany</td>\n",
       "    </tr>\n",
       "    <tr>\n",
       "      <th>3</th>\n",
       "      <td>1901</td>\n",
       "      <td>Peace</td>\n",
       "      <td>The Nobel Peace Prize 1901</td>\n",
       "      <td>NaN</td>\n",
       "      <td>01/02/2024</td>\n",
       "      <td>462</td>\n",
       "      <td>Individual</td>\n",
       "      <td>Jean Henry Dunant</td>\n",
       "      <td>1828-05-08</td>\n",
       "      <td>Geneva</td>\n",
       "      <td>Switzerland</td>\n",
       "      <td>Male</td>\n",
       "      <td>NaN</td>\n",
       "      <td>NaN</td>\n",
       "      <td>NaN</td>\n",
       "      <td>1910-10-30</td>\n",
       "      <td>Heiden</td>\n",
       "      <td>Switzerland</td>\n",
       "    </tr>\n",
       "    <tr>\n",
       "      <th>4</th>\n",
       "      <td>1901</td>\n",
       "      <td>Peace</td>\n",
       "      <td>The Nobel Peace Prize 1901</td>\n",
       "      <td>NaN</td>\n",
       "      <td>01/02/2024</td>\n",
       "      <td>463</td>\n",
       "      <td>Individual</td>\n",
       "      <td>Frédéric Passy</td>\n",
       "      <td>1822-05-20</td>\n",
       "      <td>Paris</td>\n",
       "      <td>France</td>\n",
       "      <td>Male</td>\n",
       "      <td>NaN</td>\n",
       "      <td>NaN</td>\n",
       "      <td>NaN</td>\n",
       "      <td>1912-06-12</td>\n",
       "      <td>Paris</td>\n",
       "      <td>France</td>\n",
       "    </tr>\n",
       "  </tbody>\n",
       "</table>\n",
       "</div>"
      ],
      "text/plain": [
       "   year    category                                           prize  \\\n",
       "0  1901   Chemistry               The Nobel Prize in Chemistry 1901   \n",
       "1  1901  Literature              The Nobel Prize in Literature 1901   \n",
       "2  1901    Medicine  The Nobel Prize in Physiology or Medicine 1901   \n",
       "3  1901       Peace                      The Nobel Peace Prize 1901   \n",
       "4  1901       Peace                      The Nobel Peace Prize 1901   \n",
       "\n",
       "                                          motivation prize_share  laureate_id  \\\n",
       "0  \"in recognition of the extraordinary services ...  01/01/2024          160   \n",
       "1  \"in special recognition of his poetic composit...  01/01/2024          569   \n",
       "2  \"for his work on serum therapy, especially its...  01/01/2024          293   \n",
       "3                                                NaN  01/02/2024          462   \n",
       "4                                                NaN  01/02/2024          463   \n",
       "\n",
       "  laureate_type                     full_name  birth_date         birth_city  \\\n",
       "0    Individual  Jacobus Henricus van 't Hoff  1852-08-30          Rotterdam   \n",
       "1    Individual               Sully Prudhomme  1839-03-16              Paris   \n",
       "2    Individual        Emil Adolf von Behring  1854-03-15  Hansdorf (Lawice)   \n",
       "3    Individual             Jean Henry Dunant  1828-05-08             Geneva   \n",
       "4    Individual                Frédéric Passy  1822-05-20              Paris   \n",
       "\n",
       "      birth_country   sex   organization_name organization_city  \\\n",
       "0       Netherlands  Male   Berlin University            Berlin   \n",
       "1            France  Male                 NaN               NaN   \n",
       "2  Prussia (Poland)  Male  Marburg University           Marburg   \n",
       "3       Switzerland  Male                 NaN               NaN   \n",
       "4            France  Male                 NaN               NaN   \n",
       "\n",
       "  organization_country  death_date death_city death_country  \n",
       "0              Germany  1911-03-01     Berlin       Germany  \n",
       "1                  NaN  1907-09-07   Châtenay        France  \n",
       "2              Germany  1917-03-31    Marburg       Germany  \n",
       "3                  NaN  1910-10-30     Heiden   Switzerland  \n",
       "4                  NaN  1912-06-12      Paris        France  "
      ]
     },
     "execution_count": 5,
     "metadata": {},
     "output_type": "execute_result"
    }
   ],
   "source": [
    "# Loading in required libraries\n",
    "import pandas as pd\n",
    "import seaborn as sns\n",
    "import numpy as np\n",
    "import matplotlib.pyplot as plt\n",
    "\n",
    "df = pd.read_csv(r\"data/nobel.csv\", delimiter=';')  # Change delimiter as needed\n",
    "df.head()"
   ]
  },
  {
   "cell_type": "markdown",
   "id": "a9b2ece6-dd17-4f29-800e-a76eba80f4e4",
   "metadata": {},
   "source": [
    "# What is the most commonly awarded gender and birth country?"
   ]
  },
  {
   "cell_type": "code",
   "execution_count": null,
   "id": "5d0eaf62-b55f-4623-86a4-db3dc724b5f6",
   "metadata": {
    "executionCancelledAt": null,
    "executionTime": 52,
    "lastExecutedAt": 1720364129555,
    "lastExecutedByKernel": "cb0aeeaf-f8c8-48af-8f78-8c50254a7153",
    "lastScheduledRunId": null,
    "lastSuccessfullyExecutedCode": "# Find the most commonly awarded gender by counting the occurrences of each value in the \"sex\" column\ntop_gender = df[\"sex\"].value_counts().idxmax()\nprint(f\"The most commonly awarded gender is: {top_gender}\")\n\n# Find the most commonly awarded birth country by counting the occurrences of each value in the \"birth_country\" column\ntop_country = df[\"birth_country\"].value_counts().idxmax()\nprint(f\"The most commonly awarded birth country is: {top_country}\")",
    "outputsMetadata": {
     "0": {
      "height": 59,
      "type": "stream"
     }
    }
   },
   "outputs": [],
   "source": [
    "# Find the most commonly awarded gender by counting the occurrences of each value in the \"sex\" column\n",
    "top_gender = df[\"sex\"].value_counts().idxmax()\n",
    "print(f\"The most commonly awarded gender is: {top_gender}\")\n",
    "\n",
    "# Find the most commonly awarded birth country by counting the occurrences of each value in the \"birth_country\" column\n",
    "top_country = df[\"birth_country\"].value_counts().idxmax()\n",
    "print(f\"The most commonly awarded birth country is: {top_country}\")"
   ]
  },
  {
   "cell_type": "code",
   "execution_count": null,
   "id": "0ff83fc8",
   "metadata": {},
   "outputs": [],
   "source": [
    "# Calculate counts of each gender\n",
    "gender_counts = df[\"sex\"].value_counts()\n",
    "\n",
    "# Plotting\n",
    "plt.figure(figsize=(8, 6))\n",
    "sns.barplot(x=gender_counts.index, y=gender_counts.values, palette=\"viridis\")\n",
    "plt.title(\"Most Commonly Awarded Gender\")\n",
    "plt.xlabel(\"Gender\")\n",
    "plt.ylabel(\"Count\")\n",
    "plt.show()"
   ]
  },
  {
   "cell_type": "code",
   "execution_count": null,
   "id": "318ba031",
   "metadata": {},
   "outputs": [],
   "source": [
    "# Calculate counts of each birth country\n",
    "country_counts = df[\"birth_country\"].value_counts().nlargest(10)  \n",
    "\n",
    "# Plotting\n",
    "plt.figure(figsize=(12, 8))\n",
    "sns.barplot(x=country_counts.values, y=country_counts.index, palette=\"muted\")\n",
    "plt.title(\"Most 10 Commonly Awarded Birth Countries\")\n",
    "plt.xlabel(\"Count\")\n",
    "plt.ylabel(\"Birth Country\")\n",
    "plt.show()"
   ]
  },
  {
   "cell_type": "markdown",
   "id": "c404c583-4513-4e93-8d45-c3e6d3a295e2",
   "metadata": {},
   "source": [
    "# Which decade had the highest ratio of US-born Nobel Prize winners to total winners in all categories?"
   ]
  },
  {
   "cell_type": "code",
   "execution_count": null,
   "id": "d593cf4e-d917-4036-9cda-b5d6eb973d70",
   "metadata": {
    "executionCancelledAt": null,
    "executionTime": 52,
    "lastExecutedAt": 1720364129607,
    "lastExecutedByKernel": "cb0aeeaf-f8c8-48af-8f78-8c50254a7153",
    "lastScheduledRunId": null,
    "lastSuccessfullyExecutedCode": "# Filter the DataFrame for entries with birth country as \"United States of America\" or \"USA\"\ndf_usa = df[(df[\"birth_country\"] == \"United States of America\") | (df[\"birth_country\"] == \"USA\")]\n\n# Create a new column for the decade\ndf_usa = df_usa.copy()  \ndf_usa['decade'] = (df_usa['year'] // 10) * 10\n\n# Group by the decade and count the number of rows in each group\nmax_decade_usa = df_usa.groupby('decade').size().idxmax()\nprint(f\"the decade that hve the highest ratio is : {max_decade_usa}\")",
    "outputsMetadata": {
     "0": {
      "height": 38,
      "type": "stream"
     }
    }
   },
   "outputs": [],
   "source": [
    "# Filter the DataFrame for entries with birth country as \"United States of America\" or \"USA\"\n",
    "df_usa = df[(df[\"birth_country\"] == \"United States of America\") | (df[\"birth_country\"] == \"USA\")]\n",
    "\n",
    "# Create a new column for the decade\n",
    "df_usa = df_usa.copy()  \n",
    "df_usa['decade'] = (df_usa['year'] // 10) * 10\n",
    "\n",
    "# Group by the decade and count the number of rows in each group\n",
    "max_decade_usa = df_usa.groupby('decade').size().idxmax()\n",
    "print(f\"the decade that have the highest ratio is : {max_decade_usa}\")"
   ]
  },
  {
   "cell_type": "code",
   "execution_count": null,
   "id": "e422a587",
   "metadata": {},
   "outputs": [],
   "source": [
    "# Calculate the number of winners per decade\n",
    "decade_counts = df_usa.groupby('decade').size()\n",
    "\n",
    "# Plotting\n",
    "plt.figure(figsize=(10, 6))\n",
    "sns.barplot(x=decade_counts.index, y=decade_counts.values, palette=\"Set2\")\n",
    "plt.title(\"Number of Nobel Prize Winners Born in USA by Decade\")\n",
    "plt.xlabel(\"Decade\")\n",
    "plt.ylabel(\"Number of Nobel Prize Winners\")\n",
    "plt.xticks(rotation=45)\n",
    "plt.grid(axis='y')\n",
    "plt.tight_layout()\n",
    "plt.show()"
   ]
  },
  {
   "cell_type": "markdown",
   "id": "b14b5c24-b1d6-4925-b1f5-2f67242cad23",
   "metadata": {},
   "source": [
    "# Which decade and Nobel Prize category combination had the highest proportion of female laureates?"
   ]
  },
  {
   "cell_type": "code",
   "execution_count": null,
   "id": "527a7f83-b463-4df4-a365-43a1ad20e8f1",
   "metadata": {
    "executionCancelledAt": null,
    "executionTime": 48,
    "lastExecutedAt": 1720364129655,
    "lastExecutedByKernel": "cb0aeeaf-f8c8-48af-8f78-8c50254a7153",
    "lastScheduledRunId": null,
    "lastSuccessfullyExecutedCode": "# # Filter the DataFrame to include only female laureates\n# df_female = df[df[\"sex\"] == \"Female\"]\n\n# # Create a new column for the decade in the filtered DataFrame to avoid SettingWithCopyWarning\n# df_female = df_female.copy()  \n# df_female['decade'] = (df_female['year'] // 10) * 10\n\n# # Find the decade with the highest number of female laureates\n# max_decade_female = df_female.groupby('decade').size().idxmax()\n# print(f\"The decade that has the highest number of female laureates: {max_decade_female}\")\n\n# # Find the category with the highest number of female laureates\n# most_female_category = df_female.groupby('category').size().idxmax()\n# print(f\"The most common category for female laureates is: {most_female_category}\")\n\n# # Create a dictionary with the decade and the most common category for female laureates\n# max_female_dict = {max_decade_female: most_female_category}\n# max_female_dict",
    "outputsMetadata": {
     "0": {
      "height": 59,
      "type": "stream"
     }
    }
   },
   "outputs": [],
   "source": [
    "# # Filter the DataFrame to include only female laureates\n",
    "# df_female = df[df[\"sex\"] == \"Female\"]\n",
    "\n",
    "# # Create a new column for the decade in the filtered DataFrame to avoid SettingWithCopyWarning\n",
    "# df_female = df_female.copy()  \n",
    "# df_female['decade'] = (df_female['year'] // 10) * 10\n",
    "\n",
    "# # Find the decade with the highest number of female laureates\n",
    "# max_decade_female = df_female.groupby('decade').size().idxmax()\n",
    "# print(f\"The decade that has the highest number of female laureates: {max_decade_female}\")\n",
    "\n",
    "# # Find the category with the highest number of female laureates\n",
    "# most_female_category = df_female.groupby('category').size().idxmax()\n",
    "# print(f\"The most common category for female laureates is: {most_female_category}\")\n",
    "\n",
    "# # Create a dictionary with the decade and the most common category for female laureates\n",
    "# max_female_dict = {max_decade_female: most_female_category}\n",
    "# max_female_dict"
   ]
  },
  {
   "cell_type": "code",
   "execution_count": null,
   "id": "4dcfeef8-1030-4e85-b468-1cacb89c09ae",
   "metadata": {
    "executionCancelledAt": null,
    "executionTime": 60,
    "lastExecutedAt": 1720364129715,
    "lastExecutedByKernel": "cb0aeeaf-f8c8-48af-8f78-8c50254a7153",
    "lastScheduledRunId": null,
    "lastSuccessfullyExecutedCode": "df['decade'] = (np.floor(df['year'] / 10) * 10).astype(int)\n\n# Calculating the proportion of female laureates per decade\ndf['female_winner'] = df['sex'] == 'Female'\n\n# Find the decade and category with the highest proportion of female laureates\nmax_female_decade_category = prop_female_winners[prop_female_winners['female_winner'] == prop_female_winners['female_winner'].max()][['decade', 'category']]\n\n# Create a dictionary with the decade and category pair\nmax_female_dict = {max_female_decade_category['decade'].values[0]: max_female_decade_category['category'].values[0]}\n\nprint(max_female_dict)"
   },
   "outputs": [],
   "source": [
    "df['decade'] = (np.floor(df['year'] / 10) * 10).astype(int)\n",
    "\n",
    "# Calculating the proportion of female laureates per decade\n",
    "df['female_winner'] = df['sex'] == 'Female'\n",
    "prop_female_winners = df.groupby(['decade', 'category'], as_index=False)['female_winner'].mean()\n",
    "\n",
    "# Find the decade and category with the highest proportion of female laureates\n",
    "max_female_decade_category = prop_female_winners[prop_female_winners['female_winner'] == prop_female_winners['female_winner'].max()][['decade', 'category']]\n",
    "\n",
    "# Create a dictionary with the decade and category pair\n",
    "max_female_dict = {max_female_decade_category['decade'].values[0]: max_female_decade_category['category'].values[0]}\n",
    "\n",
    "print(max_female_dict)"
   ]
  },
  {
   "cell_type": "code",
   "execution_count": null,
   "id": "a7a63547",
   "metadata": {},
   "outputs": [],
   "source": [
    "# Visualization: Bar plot of proportion of female winners by decade and category\n",
    "plt.figure(figsize=(10, 6))\n",
    "sns.barplot(x='decade', y='female_winner', hue='category', data=prop_female_winners, palette='Set2')\n",
    "plt.title('Proportion of Female Nobel Laureates by Decade and Category')\n",
    "plt.xlabel('Decade')\n",
    "plt.ylabel('Proportion of Female Winners')\n",
    "plt.legend(title='Category')\n",
    "plt.xticks(rotation=45)\n",
    "plt.tight_layout()\n",
    "plt.show()"
   ]
  },
  {
   "cell_type": "markdown",
   "id": "884f1fb4-19fb-450e-8675-86e29262e811",
   "metadata": {},
   "source": [
    "# Who was the first woman to receive a Nobel Prize, and in what category?"
   ]
  },
  {
   "cell_type": "code",
   "execution_count": null,
   "id": "94729a16-2afa-4409-a501-f0905f532036",
   "metadata": {
    "executionCancelledAt": null,
    "executionTime": 68,
    "lastExecutedAt": 1720364129783,
    "lastExecutedByKernel": "cb0aeeaf-f8c8-48af-8f78-8c50254a7153",
    "lastScheduledRunId": null,
    "lastSuccessfullyExecutedCode": "# Filter the DataFrame to include only female laureates and sort by the \"year\" column\ndf_female = df[df[\"sex\"] == \"Female\"].sort_values(\"year\")\n\n# Extract the name of the first female laureate\nfirst_woman_name = df_female[\"full_name\"].iloc[0]\nprint(f\"the name of the first female laureate: {first_woman_name}\")\n\n# Extract the category of the first female laureate\nfirst_woman_category = df_female[\"category\"].iloc[0]\nprint(f\"the category of the first female laureate: {first_woman_category}\")",
    "outputsMetadata": {
     "0": {
      "height": 59,
      "type": "stream"
     }
    }
   },
   "outputs": [],
   "source": [
    "# Filter the DataFrame to include only female laureates and sort by the \"year\" column\n",
    "df_female = df[df[\"sex\"] == \"Female\"].sort_values(\"year\")\n",
    "\n",
    "# Extract the name of the first female laureate\n",
    "first_woman_name = df_female[\"full_name\"].iloc[0]\n",
    "print(f\"the name of the first female laureate: {first_woman_name}\")\n",
    "\n",
    "# Extract the category of the first female laureate\n",
    "first_woman_category = df_female[\"category\"].iloc[0]\n",
    "print(f\"the category of the first female laureate: {first_woman_category}\")"
   ]
  },
  {
   "cell_type": "markdown",
   "id": "0ada27a7-07ac-4cde-87d4-b6ae680a1722",
   "metadata": {},
   "source": [
    "# Which individuals or organizations have won more than one Nobel Prize throughout the years?"
   ]
  },
  {
   "cell_type": "code",
   "execution_count": null,
   "id": "cfcb6ce1-8328-4e28-ac9b-1ee464874b55",
   "metadata": {
    "executionCancelledAt": null,
    "executionTime": 53,
    "lastExecutedAt": 1720364129836,
    "lastExecutedByKernel": "cb0aeeaf-f8c8-48af-8f78-8c50254a7153",
    "lastScheduledRunId": null,
    "lastSuccessfullyExecutedCode": "# Get duplicated full_names as a list\nindividuals = df[df[\"full_name\"].duplicated()][\"full_name\"].drop_duplicates()\n\n# Count the occurrences of each organization in the DataFrame\norganization_counts = df[\"organization_name\"].value_counts()\n\n# Filter for organizations that appear at least twice and get their names as a list\norganization_counts_filtered = organization_counts[organization_counts >= 2].index.tolist()\n\n# Create the 1D list repeat_list\nrepeat_list = list(individuals)\nprint(len(repeat_list))",
    "outputsMetadata": {
     "0": {
      "height": 38,
      "type": "stream"
     }
    }
   },
   "outputs": [],
   "source": [
    "# Get duplicated full_names as a list\n",
    "individuals = df[df[\"full_name\"].duplicated()][\"full_name\"].drop_duplicates()\n",
    "\n",
    "# Count the occurrences of each organization in the DataFrame\n",
    "organization_counts = df[\"organization_name\"].value_counts()\n",
    "\n",
    "# Filter for organizations that appear at least twice and get their names as a list\n",
    "organization_counts_filtered = organization_counts[organization_counts >= 2].index.tolist()\n",
    "\n",
    "# Create the 1D list repeat_list\n",
    "repeat_list = list(individuals)\n",
    "print(len(repeat_list))\n",
    "print(repeat_list)"
   ]
  },
  {
   "cell_type": "code",
   "execution_count": null,
   "id": "46ea29d3",
   "metadata": {},
   "outputs": [],
   "source": [
    "# Visualization: Count plot of duplicated individuals\n",
    "plt.figure(figsize=(8, 6))\n",
    "sns.countplot(y='full_name', data=df[df['full_name'].isin(repeat_list)], palette='viridis', order=repeat_list)\n",
    "plt.title('Duplicated Individuals')\n",
    "plt.xlabel('Count')\n",
    "plt.ylabel('Full Name')\n",
    "plt.tight_layout()\n",
    "plt.show()"
   ]
  },
  {
   "cell_type": "code",
   "execution_count": null,
   "id": "5b73f94a",
   "metadata": {},
   "outputs": [],
   "source": []
  }
 ],
 "metadata": {
  "editor": "DataCamp Workspace",
  "kernelspec": {
   "display_name": "Python 3 (ipykernel)",
   "language": "python",
   "name": "python3"
  },
  "language_info": {
   "codemirror_mode": {
    "name": "ipython",
    "version": 3
   },
   "file_extension": ".py",
   "mimetype": "text/x-python",
   "name": "python",
   "nbconvert_exporter": "python",
   "pygments_lexer": "ipython3",
   "version": "3.9.13"
  }
 },
 "nbformat": 4,
 "nbformat_minor": 5
}
