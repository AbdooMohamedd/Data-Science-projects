{
 "cells": [
  {
   "cell_type": "markdown",
   "id": "c747d469-ee97-4b95-880f-feefd5456042",
   "metadata": {
    "id": "bA5ajAmk7XH6"
   },
   "source": [
    "![NYC Skyline](nyc.jpg)\n",
    "\n",
    "Welcome to New York City, one of the most-visited cities in the world. There are many Airbnb listings in New York City to meet the high demand for temporary lodging for travelers, which can be anywhere between a few nights to many months. In this project, we will take a closer look at the New York Airbnb market by combining data from multiple file types like `.csv`, `.tsv`, and `.xlsx`.\n",
    "\n",
    "Recall that **CSV**, **TSV**, and **Excel** files are three common formats for storing data. \n",
    "Three files containing data on 2019 Airbnb listings are available to you:\n",
    "\n",
    "**data/airbnb_price.csv**\n",
    "This is a CSV file containing data on Airbnb listing prices and locations.\n",
    "- **`listing_id`**: unique identifier of listing\n",
    "- **`price`**: nightly listing price in USD\n",
    "- **`nbhood_full`**: name of borough and neighborhood where listing is located\n",
    "\n",
    "**data/airbnb_room_type.xlsx**\n",
    "This is an Excel file containing data on Airbnb listing descriptions and room types.\n",
    "- **`listing_id`**: unique identifier of listing\n",
    "- **`description`**: listing description\n",
    "- **`room_type`**: Airbnb has three types of rooms: shared rooms, private rooms, and entire homes/apartments\n",
    "\n",
    "**data/airbnb_last_review.tsv**\n",
    "This is a TSV file containing data on Airbnb host names and review dates.\n",
    "- **`listing_id`**: unique identifier of listing\n",
    "- **`host_name`**: name of listing host\n",
    "- **`last_review`**: date when the listing was last reviewed"
   ]
  },
  {
   "cell_type": "code",
   "execution_count": 1,
   "id": "1fdc5784-479e-46cb-b05b-68439dcc94a7",
   "metadata": {
    "executionCancelledAt": null,
    "executionTime": 49,
    "lastExecutedAt": 1721820423272,
    "lastExecutedByKernel": "0465c626-023b-4e57-8e80-4f6b8334ba4d",
    "lastScheduledRunId": null,
    "lastSuccessfullyExecutedCode": "# Import necessary packages\nimport pandas as pd\nimport numpy as np\nimport matplotlib.pyplot as plt\nimport seaborn as sns"
   },
   "outputs": [],
   "source": [
    "# Import necessary packages\n",
    "import pandas as pd\n",
    "import numpy as np\n",
    "import matplotlib.pyplot as plt\n",
    "import seaborn as sns"
   ]
  },
  {
   "cell_type": "markdown",
   "id": "21bb5085-0c17-4740-9a62-fff7f536a276",
   "metadata": {},
   "source": [
    "As a consultant working for a real estate start-up, you have collected Airbnb listing data from various sources to investigate the short-term rental market in New York. You'll analyze this data to provide insights on private rooms to the real estate company.\n",
    "\n",
    "There are three files in the data folder: airbnb_price.csv, airbnb_room_type.xlsx, airbnb_last_review.tsv.\n",
    "\n",
    "* What are the dates of the earliest and most recent reviews? Store these values as two separate variables with your preferred names.\n",
    "\n",
    "* How many of the listings are private rooms? Save this into any variable.\n",
    "\n",
    "* What is the average listing price? Round to the nearest two decimal places and save into a variable.\n",
    "\n",
    "* Combine the new variables into one DataFrame called review_dates with four columns in the following order: first_reviewed, last_reviewed, nb_private_rooms, and avg_price. The DataFrame should only contain one row of values."
   ]
  },
  {
   "cell_type": "markdown",
   "id": "782802fa-e4dd-4679-911e-3fd88e29074a",
   "metadata": {},
   "source": [
    "# read the data"
   ]
  },
  {
   "cell_type": "code",
   "execution_count": 2,
   "id": "d9b924d0-a102-47e6-8139-f22fba216179",
   "metadata": {
    "executionCancelledAt": null,
    "executionTime": 48,
    "lastExecutedAt": 1721820423320,
    "lastExecutedByKernel": "0465c626-023b-4e57-8e80-4f6b8334ba4d",
    "lastScheduledRunId": null,
    "lastSuccessfullyExecutedCode": "# read the \"airbnb_price.csv\" file\nairbnb_price = pd.read_csv(\"data/airbnb_price.csv\")\nairbnb_price.head()",
    "outputsMetadata": {
     "0": {
      "height": 194,
      "type": "dataFrame"
     }
    }
   },
   "outputs": [
    {
     "data": {
      "text/html": [
       "<div>\n",
       "<style scoped>\n",
       "    .dataframe tbody tr th:only-of-type {\n",
       "        vertical-align: middle;\n",
       "    }\n",
       "\n",
       "    .dataframe tbody tr th {\n",
       "        vertical-align: top;\n",
       "    }\n",
       "\n",
       "    .dataframe thead th {\n",
       "        text-align: right;\n",
       "    }\n",
       "</style>\n",
       "<table border=\"1\" class=\"dataframe\">\n",
       "  <thead>\n",
       "    <tr style=\"text-align: right;\">\n",
       "      <th></th>\n",
       "      <th>listing_id</th>\n",
       "      <th>price</th>\n",
       "      <th>nbhood_full</th>\n",
       "    </tr>\n",
       "  </thead>\n",
       "  <tbody>\n",
       "    <tr>\n",
       "      <th>0</th>\n",
       "      <td>2595</td>\n",
       "      <td>225 dollars</td>\n",
       "      <td>Manhattan, Midtown</td>\n",
       "    </tr>\n",
       "    <tr>\n",
       "      <th>1</th>\n",
       "      <td>3831</td>\n",
       "      <td>89 dollars</td>\n",
       "      <td>Brooklyn, Clinton Hill</td>\n",
       "    </tr>\n",
       "    <tr>\n",
       "      <th>2</th>\n",
       "      <td>5099</td>\n",
       "      <td>200 dollars</td>\n",
       "      <td>Manhattan, Murray Hill</td>\n",
       "    </tr>\n",
       "    <tr>\n",
       "      <th>3</th>\n",
       "      <td>5178</td>\n",
       "      <td>79 dollars</td>\n",
       "      <td>Manhattan, Hell's Kitchen</td>\n",
       "    </tr>\n",
       "    <tr>\n",
       "      <th>4</th>\n",
       "      <td>5238</td>\n",
       "      <td>150 dollars</td>\n",
       "      <td>Manhattan, Chinatown</td>\n",
       "    </tr>\n",
       "  </tbody>\n",
       "</table>\n",
       "</div>"
      ],
      "text/plain": [
       "   listing_id        price                nbhood_full\n",
       "0        2595  225 dollars         Manhattan, Midtown\n",
       "1        3831   89 dollars     Brooklyn, Clinton Hill\n",
       "2        5099  200 dollars     Manhattan, Murray Hill\n",
       "3        5178   79 dollars  Manhattan, Hell's Kitchen\n",
       "4        5238  150 dollars       Manhattan, Chinatown"
      ]
     },
     "execution_count": 2,
     "metadata": {},
     "output_type": "execute_result"
    }
   ],
   "source": [
    "# read the \"airbnb_price.csv\" file\n",
    "airbnb_price = pd.read_csv(\"data/airbnb_price.csv\")\n",
    "airbnb_price.head()"
   ]
  },
  {
   "cell_type": "code",
   "execution_count": 3,
   "id": "2fc45f27-6166-4e6e-9bfe-fd8f268220bf",
   "metadata": {
    "executionCancelledAt": null,
    "executionTime": 1408,
    "lastExecutedAt": 1721820424728,
    "lastExecutedByKernel": "0465c626-023b-4e57-8e80-4f6b8334ba4d",
    "lastScheduledRunId": null,
    "lastSuccessfullyExecutedCode": "# read the \"airbnb_room_type.xlsx\" file\nairbnb_room_type = pd.read_excel(\"data/airbnb_room_type.xlsx\")\nairbnb_room_type.head()",
    "outputsMetadata": {
     "0": {
      "height": 194,
      "type": "dataFrame"
     }
    }
   },
   "outputs": [
    {
     "data": {
      "text/html": [
       "<div>\n",
       "<style scoped>\n",
       "    .dataframe tbody tr th:only-of-type {\n",
       "        vertical-align: middle;\n",
       "    }\n",
       "\n",
       "    .dataframe tbody tr th {\n",
       "        vertical-align: top;\n",
       "    }\n",
       "\n",
       "    .dataframe thead th {\n",
       "        text-align: right;\n",
       "    }\n",
       "</style>\n",
       "<table border=\"1\" class=\"dataframe\">\n",
       "  <thead>\n",
       "    <tr style=\"text-align: right;\">\n",
       "      <th></th>\n",
       "      <th>listing_id</th>\n",
       "      <th>description</th>\n",
       "      <th>room_type</th>\n",
       "    </tr>\n",
       "  </thead>\n",
       "  <tbody>\n",
       "    <tr>\n",
       "      <th>0</th>\n",
       "      <td>2595</td>\n",
       "      <td>Skylit Midtown Castle</td>\n",
       "      <td>Entire home/apt</td>\n",
       "    </tr>\n",
       "    <tr>\n",
       "      <th>1</th>\n",
       "      <td>3831</td>\n",
       "      <td>Cozy Entire Floor of Brownstone</td>\n",
       "      <td>Entire home/apt</td>\n",
       "    </tr>\n",
       "    <tr>\n",
       "      <th>2</th>\n",
       "      <td>5099</td>\n",
       "      <td>Large Cozy 1 BR Apartment In Midtown East</td>\n",
       "      <td>Entire home/apt</td>\n",
       "    </tr>\n",
       "    <tr>\n",
       "      <th>3</th>\n",
       "      <td>5178</td>\n",
       "      <td>Large Furnished Room Near B'way</td>\n",
       "      <td>private room</td>\n",
       "    </tr>\n",
       "    <tr>\n",
       "      <th>4</th>\n",
       "      <td>5238</td>\n",
       "      <td>Cute &amp; Cozy Lower East Side 1 bdrm</td>\n",
       "      <td>Entire home/apt</td>\n",
       "    </tr>\n",
       "  </tbody>\n",
       "</table>\n",
       "</div>"
      ],
      "text/plain": [
       "   listing_id                                description        room_type\n",
       "0        2595                      Skylit Midtown Castle  Entire home/apt\n",
       "1        3831            Cozy Entire Floor of Brownstone  Entire home/apt\n",
       "2        5099  Large Cozy 1 BR Apartment In Midtown East  Entire home/apt\n",
       "3        5178            Large Furnished Room Near B'way     private room\n",
       "4        5238         Cute & Cozy Lower East Side 1 bdrm  Entire home/apt"
      ]
     },
     "execution_count": 3,
     "metadata": {},
     "output_type": "execute_result"
    }
   ],
   "source": [
    "# read the \"airbnb_room_type.xlsx\" file\n",
    "airbnb_room_type = pd.read_excel(\"data/airbnb_room_type.xlsx\")\n",
    "airbnb_room_type.head()"
   ]
  },
  {
   "cell_type": "code",
   "execution_count": 4,
   "id": "a6ce0cd2-1f56-4f26-b2d7-5b0aca569fbc",
   "metadata": {
    "executionCancelledAt": null,
    "executionTime": 137,
    "lastExecutedAt": 1721820424865,
    "lastExecutedByKernel": "0465c626-023b-4e57-8e80-4f6b8334ba4d",
    "lastScheduledRunId": null,
    "lastSuccessfullyExecutedCode": "# read the \"airbnb_last_review.tsv\" file\nairbnb_last_review = pd.read_csv(\"data/airbnb_last_review.tsv\", sep='\\t')\nairbnb_last_review",
    "outputsMetadata": {
     "0": {
      "height": 318,
      "type": "dataFrame"
     }
    }
   },
   "outputs": [
    {
     "data": {
      "text/html": [
       "<div>\n",
       "<style scoped>\n",
       "    .dataframe tbody tr th:only-of-type {\n",
       "        vertical-align: middle;\n",
       "    }\n",
       "\n",
       "    .dataframe tbody tr th {\n",
       "        vertical-align: top;\n",
       "    }\n",
       "\n",
       "    .dataframe thead th {\n",
       "        text-align: right;\n",
       "    }\n",
       "</style>\n",
       "<table border=\"1\" class=\"dataframe\">\n",
       "  <thead>\n",
       "    <tr style=\"text-align: right;\">\n",
       "      <th></th>\n",
       "      <th>listing_id</th>\n",
       "      <th>host_name</th>\n",
       "      <th>last_review</th>\n",
       "    </tr>\n",
       "  </thead>\n",
       "  <tbody>\n",
       "    <tr>\n",
       "      <th>0</th>\n",
       "      <td>2595</td>\n",
       "      <td>Jennifer</td>\n",
       "      <td>May 21 2019</td>\n",
       "    </tr>\n",
       "    <tr>\n",
       "      <th>1</th>\n",
       "      <td>3831</td>\n",
       "      <td>LisaRoxanne</td>\n",
       "      <td>July 05 2019</td>\n",
       "    </tr>\n",
       "    <tr>\n",
       "      <th>2</th>\n",
       "      <td>5099</td>\n",
       "      <td>Chris</td>\n",
       "      <td>June 22 2019</td>\n",
       "    </tr>\n",
       "    <tr>\n",
       "      <th>3</th>\n",
       "      <td>5178</td>\n",
       "      <td>Shunichi</td>\n",
       "      <td>June 24 2019</td>\n",
       "    </tr>\n",
       "    <tr>\n",
       "      <th>4</th>\n",
       "      <td>5238</td>\n",
       "      <td>Ben</td>\n",
       "      <td>June 09 2019</td>\n",
       "    </tr>\n",
       "    <tr>\n",
       "      <th>...</th>\n",
       "      <td>...</td>\n",
       "      <td>...</td>\n",
       "      <td>...</td>\n",
       "    </tr>\n",
       "    <tr>\n",
       "      <th>25204</th>\n",
       "      <td>36425863</td>\n",
       "      <td>Rusaa</td>\n",
       "      <td>July 07 2019</td>\n",
       "    </tr>\n",
       "    <tr>\n",
       "      <th>25205</th>\n",
       "      <td>36427429</td>\n",
       "      <td>H Ai</td>\n",
       "      <td>July 07 2019</td>\n",
       "    </tr>\n",
       "    <tr>\n",
       "      <th>25206</th>\n",
       "      <td>36438336</td>\n",
       "      <td>Ben</td>\n",
       "      <td>July 07 2019</td>\n",
       "    </tr>\n",
       "    <tr>\n",
       "      <th>25207</th>\n",
       "      <td>36442252</td>\n",
       "      <td>Blaine</td>\n",
       "      <td>July 07 2019</td>\n",
       "    </tr>\n",
       "    <tr>\n",
       "      <th>25208</th>\n",
       "      <td>36455809</td>\n",
       "      <td>Christine</td>\n",
       "      <td>July 08 2019</td>\n",
       "    </tr>\n",
       "  </tbody>\n",
       "</table>\n",
       "<p>25209 rows × 3 columns</p>\n",
       "</div>"
      ],
      "text/plain": [
       "       listing_id    host_name   last_review\n",
       "0            2595     Jennifer   May 21 2019\n",
       "1            3831  LisaRoxanne  July 05 2019\n",
       "2            5099        Chris  June 22 2019\n",
       "3            5178     Shunichi  June 24 2019\n",
       "4            5238          Ben  June 09 2019\n",
       "...           ...          ...           ...\n",
       "25204    36425863        Rusaa  July 07 2019\n",
       "25205    36427429         H Ai  July 07 2019\n",
       "25206    36438336          Ben  July 07 2019\n",
       "25207    36442252       Blaine  July 07 2019\n",
       "25208    36455809    Christine  July 08 2019\n",
       "\n",
       "[25209 rows x 3 columns]"
      ]
     },
     "execution_count": 4,
     "metadata": {},
     "output_type": "execute_result"
    }
   ],
   "source": [
    "# read the \"airbnb_last_review.tsv\" file\n",
    "airbnb_last_review = pd.read_csv(\"data/airbnb_last_review.tsv\", sep='\\t')\n",
    "airbnb_last_review"
   ]
  },
  {
   "cell_type": "markdown",
   "id": "b3d9f117-5978-4067-b36b-3ce6cae874c5",
   "metadata": {},
   "source": [
    "# join the three dataframes"
   ]
  },
  {
   "cell_type": "code",
   "execution_count": 5,
   "id": "f98386d7-935a-442b-98b9-7038c0af205a",
   "metadata": {
    "executionCancelledAt": null,
    "executionTime": 52,
    "lastExecutedAt": 1721820424917,
    "lastExecutedByKernel": "0465c626-023b-4e57-8e80-4f6b8334ba4d",
    "lastScheduledRunId": null,
    "lastSuccessfullyExecutedCode": "# Merge airbnb_price and airbnb_room_type on 'listing_id'\nmerged_df = pd.merge(airbnb_price, airbnb_room_type, on='listing_id')\n\n# Merge the result with airbnb_last_review on 'listing_id'\ndf = pd.merge(merged_df, airbnb_last_review, on='listing_id')\ndf.head()",
    "outputsMetadata": {
     "0": {
      "height": 194,
      "type": "dataFrame"
     }
    }
   },
   "outputs": [
    {
     "data": {
      "text/html": [
       "<div>\n",
       "<style scoped>\n",
       "    .dataframe tbody tr th:only-of-type {\n",
       "        vertical-align: middle;\n",
       "    }\n",
       "\n",
       "    .dataframe tbody tr th {\n",
       "        vertical-align: top;\n",
       "    }\n",
       "\n",
       "    .dataframe thead th {\n",
       "        text-align: right;\n",
       "    }\n",
       "</style>\n",
       "<table border=\"1\" class=\"dataframe\">\n",
       "  <thead>\n",
       "    <tr style=\"text-align: right;\">\n",
       "      <th></th>\n",
       "      <th>listing_id</th>\n",
       "      <th>price</th>\n",
       "      <th>nbhood_full</th>\n",
       "      <th>description</th>\n",
       "      <th>room_type</th>\n",
       "      <th>host_name</th>\n",
       "      <th>last_review</th>\n",
       "    </tr>\n",
       "  </thead>\n",
       "  <tbody>\n",
       "    <tr>\n",
       "      <th>0</th>\n",
       "      <td>2595</td>\n",
       "      <td>225 dollars</td>\n",
       "      <td>Manhattan, Midtown</td>\n",
       "      <td>Skylit Midtown Castle</td>\n",
       "      <td>Entire home/apt</td>\n",
       "      <td>Jennifer</td>\n",
       "      <td>May 21 2019</td>\n",
       "    </tr>\n",
       "    <tr>\n",
       "      <th>1</th>\n",
       "      <td>3831</td>\n",
       "      <td>89 dollars</td>\n",
       "      <td>Brooklyn, Clinton Hill</td>\n",
       "      <td>Cozy Entire Floor of Brownstone</td>\n",
       "      <td>Entire home/apt</td>\n",
       "      <td>LisaRoxanne</td>\n",
       "      <td>July 05 2019</td>\n",
       "    </tr>\n",
       "    <tr>\n",
       "      <th>2</th>\n",
       "      <td>5099</td>\n",
       "      <td>200 dollars</td>\n",
       "      <td>Manhattan, Murray Hill</td>\n",
       "      <td>Large Cozy 1 BR Apartment In Midtown East</td>\n",
       "      <td>Entire home/apt</td>\n",
       "      <td>Chris</td>\n",
       "      <td>June 22 2019</td>\n",
       "    </tr>\n",
       "    <tr>\n",
       "      <th>3</th>\n",
       "      <td>5178</td>\n",
       "      <td>79 dollars</td>\n",
       "      <td>Manhattan, Hell's Kitchen</td>\n",
       "      <td>Large Furnished Room Near B'way</td>\n",
       "      <td>private room</td>\n",
       "      <td>Shunichi</td>\n",
       "      <td>June 24 2019</td>\n",
       "    </tr>\n",
       "    <tr>\n",
       "      <th>4</th>\n",
       "      <td>5238</td>\n",
       "      <td>150 dollars</td>\n",
       "      <td>Manhattan, Chinatown</td>\n",
       "      <td>Cute &amp; Cozy Lower East Side 1 bdrm</td>\n",
       "      <td>Entire home/apt</td>\n",
       "      <td>Ben</td>\n",
       "      <td>June 09 2019</td>\n",
       "    </tr>\n",
       "  </tbody>\n",
       "</table>\n",
       "</div>"
      ],
      "text/plain": [
       "   listing_id        price                nbhood_full  \\\n",
       "0        2595  225 dollars         Manhattan, Midtown   \n",
       "1        3831   89 dollars     Brooklyn, Clinton Hill   \n",
       "2        5099  200 dollars     Manhattan, Murray Hill   \n",
       "3        5178   79 dollars  Manhattan, Hell's Kitchen   \n",
       "4        5238  150 dollars       Manhattan, Chinatown   \n",
       "\n",
       "                                 description        room_type    host_name  \\\n",
       "0                      Skylit Midtown Castle  Entire home/apt     Jennifer   \n",
       "1            Cozy Entire Floor of Brownstone  Entire home/apt  LisaRoxanne   \n",
       "2  Large Cozy 1 BR Apartment In Midtown East  Entire home/apt        Chris   \n",
       "3            Large Furnished Room Near B'way     private room     Shunichi   \n",
       "4         Cute & Cozy Lower East Side 1 bdrm  Entire home/apt          Ben   \n",
       "\n",
       "    last_review  \n",
       "0   May 21 2019  \n",
       "1  July 05 2019  \n",
       "2  June 22 2019  \n",
       "3  June 24 2019  \n",
       "4  June 09 2019  "
      ]
     },
     "execution_count": 5,
     "metadata": {},
     "output_type": "execute_result"
    }
   ],
   "source": [
    "# Merge airbnb_price and airbnb_room_type on 'listing_id'\n",
    "merged_df = pd.merge(airbnb_price, airbnb_room_type, on='listing_id')\n",
    "\n",
    "# Merge the result with airbnb_last_review on 'listing_id'\n",
    "df = pd.merge(merged_df, airbnb_last_review, on='listing_id')\n",
    "df.head()"
   ]
  },
  {
   "cell_type": "markdown",
   "id": "cdaf37a0-252e-4960-bb00-805b81af3b18",
   "metadata": {},
   "source": [
    "# perform EDA and Data cleaning"
   ]
  },
  {
   "cell_type": "code",
   "execution_count": 6,
   "id": "b931fb57-912c-4c4a-9029-ae8fdbfadefd",
   "metadata": {
    "executionCancelledAt": null,
    "executionTime": 59,
    "lastExecutedAt": 1721820424976,
    "lastExecutedByKernel": "0465c626-023b-4e57-8e80-4f6b8334ba4d",
    "lastScheduledRunId": null,
    "lastSuccessfullyExecutedCode": "# look at the dataframe information summary\ndf.info()",
    "outputsMetadata": {
     "0": {
      "height": 311,
      "type": "stream"
     }
    }
   },
   "outputs": [
    {
     "name": "stdout",
     "output_type": "stream",
     "text": [
      "<class 'pandas.core.frame.DataFrame'>\n",
      "Int64Index: 25209 entries, 0 to 25208\n",
      "Data columns (total 7 columns):\n",
      " #   Column       Non-Null Count  Dtype \n",
      "---  ------       --------------  ----- \n",
      " 0   listing_id   25209 non-null  int64 \n",
      " 1   price        25209 non-null  object\n",
      " 2   nbhood_full  25209 non-null  object\n",
      " 3   description  25199 non-null  object\n",
      " 4   room_type    25209 non-null  object\n",
      " 5   host_name    25201 non-null  object\n",
      " 6   last_review  25209 non-null  object\n",
      "dtypes: int64(1), object(6)\n",
      "memory usage: 1.5+ MB\n"
     ]
    }
   ],
   "source": [
    "# look at the dataframe information summary\n",
    "df.info()"
   ]
  },
  {
   "cell_type": "code",
   "execution_count": 7,
   "id": "46c60915-3848-4d5b-936f-45e333c68360",
   "metadata": {
    "executionCancelledAt": null,
    "executionTime": 76,
    "lastExecutedAt": 1721820425052,
    "lastExecutedByKernel": "0465c626-023b-4e57-8e80-4f6b8334ba4d",
    "lastScheduledRunId": null,
    "lastSuccessfullyExecutedCode": "# look at the data types of the dataframe columns \ndf.dtypes"
   },
   "outputs": [
    {
     "data": {
      "text/plain": [
       "listing_id      int64\n",
       "price          object\n",
       "nbhood_full    object\n",
       "description    object\n",
       "room_type      object\n",
       "host_name      object\n",
       "last_review    object\n",
       "dtype: object"
      ]
     },
     "execution_count": 7,
     "metadata": {},
     "output_type": "execute_result"
    }
   ],
   "source": [
    "# look at the data types of the dataframe columns \n",
    "df.dtypes"
   ]
  },
  {
   "cell_type": "code",
   "execution_count": 8,
   "id": "a1f77d7e-59b2-4f4e-bc24-b33867793937",
   "metadata": {
    "executionCancelledAt": null,
    "executionTime": 56,
    "lastExecutedAt": 1721820425108,
    "lastExecutedByKernel": "0465c626-023b-4e57-8e80-4f6b8334ba4d",
    "lastScheduledRunId": null,
    "lastSuccessfullyExecutedCode": "# see how many null values in each column\ndf.isna().sum()",
    "outputsMetadata": {
     "0": {
      "height": 244,
      "type": "dataFrame"
     }
    }
   },
   "outputs": [
    {
     "data": {
      "text/plain": [
       "listing_id      0\n",
       "price           0\n",
       "nbhood_full     0\n",
       "description    10\n",
       "room_type       0\n",
       "host_name       8\n",
       "last_review     0\n",
       "dtype: int64"
      ]
     },
     "execution_count": 8,
     "metadata": {},
     "output_type": "execute_result"
    }
   ],
   "source": [
    "# see how many null values in each column\n",
    "df.isna().sum()"
   ]
  },
  {
   "cell_type": "code",
   "execution_count": 9,
   "id": "712a3e81-09b1-46ca-888c-3cf8730a1328",
   "metadata": {
    "executionCancelledAt": null,
    "executionTime": 52,
    "lastExecutedAt": 1721820425160,
    "lastExecutedByKernel": "0465c626-023b-4e57-8e80-4f6b8334ba4d",
    "lastScheduledRunId": null,
    "lastSuccessfullyExecutedCode": "# Print the rows where host_name column is null (doesn't affect the ana;ysis)\ndf[df['host_name'].isna()]",
    "outputsMetadata": {
     "0": {
      "height": 269,
      "type": "dataFrame"
     }
    }
   },
   "outputs": [
    {
     "data": {
      "text/html": [
       "<div>\n",
       "<style scoped>\n",
       "    .dataframe tbody tr th:only-of-type {\n",
       "        vertical-align: middle;\n",
       "    }\n",
       "\n",
       "    .dataframe tbody tr th {\n",
       "        vertical-align: top;\n",
       "    }\n",
       "\n",
       "    .dataframe thead th {\n",
       "        text-align: right;\n",
       "    }\n",
       "</style>\n",
       "<table border=\"1\" class=\"dataframe\">\n",
       "  <thead>\n",
       "    <tr style=\"text-align: right;\">\n",
       "      <th></th>\n",
       "      <th>listing_id</th>\n",
       "      <th>price</th>\n",
       "      <th>nbhood_full</th>\n",
       "      <th>description</th>\n",
       "      <th>room_type</th>\n",
       "      <th>host_name</th>\n",
       "      <th>last_review</th>\n",
       "    </tr>\n",
       "  </thead>\n",
       "  <tbody>\n",
       "    <tr>\n",
       "      <th>263</th>\n",
       "      <td>100184</td>\n",
       "      <td>50 dollars</td>\n",
       "      <td>Queens, Queens Village</td>\n",
       "      <td>Bienvenue</td>\n",
       "      <td>private room</td>\n",
       "      <td>NaN</td>\n",
       "      <td>July 08 2019</td>\n",
       "    </tr>\n",
       "    <tr>\n",
       "      <th>3040</th>\n",
       "      <td>4183989</td>\n",
       "      <td>86 dollars</td>\n",
       "      <td>Manhattan, Harlem</td>\n",
       "      <td>SPRING in the City!! Zen-Style Tranquil Bedroom</td>\n",
       "      <td>Private room</td>\n",
       "      <td>NaN</td>\n",
       "      <td>May 23 2019</td>\n",
       "    </tr>\n",
       "    <tr>\n",
       "      <th>4039</th>\n",
       "      <td>6292866</td>\n",
       "      <td>85 dollars</td>\n",
       "      <td>Brooklyn, East Flatbush</td>\n",
       "      <td>Modern Quiet Gem Near All</td>\n",
       "      <td>entire home/apt</td>\n",
       "      <td>NaN</td>\n",
       "      <td>June 19 2019</td>\n",
       "    </tr>\n",
       "    <tr>\n",
       "      <th>4269</th>\n",
       "      <td>6786181</td>\n",
       "      <td>100 dollars</td>\n",
       "      <td>Brooklyn, East Flatbush</td>\n",
       "      <td>R&amp;S Modern Spacious Hideaway</td>\n",
       "      <td>Entire home/apt</td>\n",
       "      <td>NaN</td>\n",
       "      <td>June 19 2019</td>\n",
       "    </tr>\n",
       "    <tr>\n",
       "      <th>6338</th>\n",
       "      <td>12113879</td>\n",
       "      <td>220 dollars</td>\n",
       "      <td>Manhattan, Chelsea</td>\n",
       "      <td>Sunny, Large West Village 1 BR Near Everything</td>\n",
       "      <td>Entire home/apt</td>\n",
       "      <td>NaN</td>\n",
       "      <td>July 02 2019</td>\n",
       "    </tr>\n",
       "    <tr>\n",
       "      <th>8060</th>\n",
       "      <td>15648096</td>\n",
       "      <td>75 dollars</td>\n",
       "      <td>Bronx, Highbridge</td>\n",
       "      <td>Spacious 2 bedroom close to Manhattan</td>\n",
       "      <td>Entire home/apt</td>\n",
       "      <td>NaN</td>\n",
       "      <td>July 07 2019</td>\n",
       "    </tr>\n",
       "    <tr>\n",
       "      <th>12128</th>\n",
       "      <td>21867710</td>\n",
       "      <td>120 dollars</td>\n",
       "      <td>Manhattan, Hell's Kitchen</td>\n",
       "      <td>Amazing room in the centre on Manhatten! Welcome!</td>\n",
       "      <td>Private room</td>\n",
       "      <td>NaN</td>\n",
       "      <td>January 01 2019</td>\n",
       "    </tr>\n",
       "    <tr>\n",
       "      <th>12164</th>\n",
       "      <td>21901156</td>\n",
       "      <td>120 dollars</td>\n",
       "      <td>Manhattan, Hell's Kitchen</td>\n",
       "      <td>Best Deal! Lovely place in Manhattan! Time Squ...</td>\n",
       "      <td>Private room</td>\n",
       "      <td>NaN</td>\n",
       "      <td>January 01 2019</td>\n",
       "    </tr>\n",
       "  </tbody>\n",
       "</table>\n",
       "</div>"
      ],
      "text/plain": [
       "       listing_id        price                nbhood_full  \\\n",
       "263        100184   50 dollars     Queens, Queens Village   \n",
       "3040      4183989   86 dollars          Manhattan, Harlem   \n",
       "4039      6292866   85 dollars    Brooklyn, East Flatbush   \n",
       "4269      6786181  100 dollars    Brooklyn, East Flatbush   \n",
       "6338     12113879  220 dollars         Manhattan, Chelsea   \n",
       "8060     15648096   75 dollars          Bronx, Highbridge   \n",
       "12128    21867710  120 dollars  Manhattan, Hell's Kitchen   \n",
       "12164    21901156  120 dollars  Manhattan, Hell's Kitchen   \n",
       "\n",
       "                                             description        room_type  \\\n",
       "263                                            Bienvenue     private room   \n",
       "3040     SPRING in the City!! Zen-Style Tranquil Bedroom     Private room   \n",
       "4039                           Modern Quiet Gem Near All  entire home/apt   \n",
       "4269                        R&S Modern Spacious Hideaway  Entire home/apt   \n",
       "6338      Sunny, Large West Village 1 BR Near Everything  Entire home/apt   \n",
       "8060               Spacious 2 bedroom close to Manhattan  Entire home/apt   \n",
       "12128  Amazing room in the centre on Manhatten! Welcome!     Private room   \n",
       "12164  Best Deal! Lovely place in Manhattan! Time Squ...     Private room   \n",
       "\n",
       "      host_name      last_review  \n",
       "263         NaN     July 08 2019  \n",
       "3040        NaN      May 23 2019  \n",
       "4039        NaN     June 19 2019  \n",
       "4269        NaN     June 19 2019  \n",
       "6338        NaN     July 02 2019  \n",
       "8060        NaN     July 07 2019  \n",
       "12128       NaN  January 01 2019  \n",
       "12164       NaN  January 01 2019  "
      ]
     },
     "execution_count": 9,
     "metadata": {},
     "output_type": "execute_result"
    }
   ],
   "source": [
    "# Print the rows where host_name column is null (doesn't affect the ana;ysis)\n",
    "df[df['host_name'].isna()]"
   ]
  },
  {
   "cell_type": "code",
   "execution_count": 10,
   "id": "adb93256-ef9c-4265-ba75-813d6f97f0c3",
   "metadata": {
    "executionCancelledAt": null,
    "executionTime": 60,
    "lastExecutedAt": 1721820425220,
    "lastExecutedByKernel": "0465c626-023b-4e57-8e80-4f6b8334ba4d",
    "lastScheduledRunId": null,
    "lastSuccessfullyExecutedCode": "# Print the rows where description column is null (doesn't affect the analysis)\ndf[df['description'].isna()]",
    "outputsMetadata": {
     "0": {
      "height": 318,
      "type": "dataFrame"
     }
    }
   },
   "outputs": [
    {
     "data": {
      "text/html": [
       "<div>\n",
       "<style scoped>\n",
       "    .dataframe tbody tr th:only-of-type {\n",
       "        vertical-align: middle;\n",
       "    }\n",
       "\n",
       "    .dataframe tbody tr th {\n",
       "        vertical-align: top;\n",
       "    }\n",
       "\n",
       "    .dataframe thead th {\n",
       "        text-align: right;\n",
       "    }\n",
       "</style>\n",
       "<table border=\"1\" class=\"dataframe\">\n",
       "  <thead>\n",
       "    <tr style=\"text-align: right;\">\n",
       "      <th></th>\n",
       "      <th>listing_id</th>\n",
       "      <th>price</th>\n",
       "      <th>nbhood_full</th>\n",
       "      <th>description</th>\n",
       "      <th>room_type</th>\n",
       "      <th>host_name</th>\n",
       "      <th>last_review</th>\n",
       "    </tr>\n",
       "  </thead>\n",
       "  <tbody>\n",
       "    <tr>\n",
       "      <th>4688</th>\n",
       "      <td>7851219</td>\n",
       "      <td>60 dollars</td>\n",
       "      <td>Brooklyn, Williamsburg</td>\n",
       "      <td>NaN</td>\n",
       "      <td>PRIVATE ROOM</td>\n",
       "      <td>John</td>\n",
       "      <td>June 18 2019</td>\n",
       "    </tr>\n",
       "    <tr>\n",
       "      <th>4690</th>\n",
       "      <td>7854307</td>\n",
       "      <td>60 dollars</td>\n",
       "      <td>Brooklyn, Williamsburg</td>\n",
       "      <td>NaN</td>\n",
       "      <td>private room</td>\n",
       "      <td>John</td>\n",
       "      <td>June 15 2019</td>\n",
       "    </tr>\n",
       "    <tr>\n",
       "      <th>4696</th>\n",
       "      <td>7858673</td>\n",
       "      <td>60 dollars</td>\n",
       "      <td>Brooklyn, Williamsburg</td>\n",
       "      <td>NaN</td>\n",
       "      <td>Private room</td>\n",
       "      <td>John</td>\n",
       "      <td>June 08 2019</td>\n",
       "    </tr>\n",
       "    <tr>\n",
       "      <th>4707</th>\n",
       "      <td>7873655</td>\n",
       "      <td>60 dollars</td>\n",
       "      <td>Brooklyn, Williamsburg</td>\n",
       "      <td>NaN</td>\n",
       "      <td>PRIVATE ROOM</td>\n",
       "      <td>John</td>\n",
       "      <td>June 21 2019</td>\n",
       "    </tr>\n",
       "    <tr>\n",
       "      <th>4709</th>\n",
       "      <td>7886635</td>\n",
       "      <td>60 dollars</td>\n",
       "      <td>Brooklyn, Williamsburg</td>\n",
       "      <td>NaN</td>\n",
       "      <td>Private room</td>\n",
       "      <td>John</td>\n",
       "      <td>June 18 2019</td>\n",
       "    </tr>\n",
       "    <tr>\n",
       "      <th>4717</th>\n",
       "      <td>7901635</td>\n",
       "      <td>60 dollars</td>\n",
       "      <td>Brooklyn, Williamsburg</td>\n",
       "      <td>NaN</td>\n",
       "      <td>Private room</td>\n",
       "      <td>John</td>\n",
       "      <td>June 23 2019</td>\n",
       "    </tr>\n",
       "    <tr>\n",
       "      <th>4829</th>\n",
       "      <td>8192443</td>\n",
       "      <td>60 dollars</td>\n",
       "      <td>Brooklyn, Williamsburg</td>\n",
       "      <td>NaN</td>\n",
       "      <td>private room</td>\n",
       "      <td>John</td>\n",
       "      <td>June 23 2019</td>\n",
       "    </tr>\n",
       "    <tr>\n",
       "      <th>4901</th>\n",
       "      <td>8341556</td>\n",
       "      <td>55 dollars</td>\n",
       "      <td>Manhattan, Harlem</td>\n",
       "      <td>NaN</td>\n",
       "      <td>Private room</td>\n",
       "      <td>Gordon M</td>\n",
       "      <td>May 26 2019</td>\n",
       "    </tr>\n",
       "    <tr>\n",
       "      <th>5496</th>\n",
       "      <td>9698992</td>\n",
       "      <td>62 dollars</td>\n",
       "      <td>Manhattan, Harlem</td>\n",
       "      <td>NaN</td>\n",
       "      <td>private room</td>\n",
       "      <td>Gordon M</td>\n",
       "      <td>June 14 2019</td>\n",
       "    </tr>\n",
       "    <tr>\n",
       "      <th>11986</th>\n",
       "      <td>21733545</td>\n",
       "      <td>175 dollars</td>\n",
       "      <td>Manhattan, Hell's Kitchen</td>\n",
       "      <td>NaN</td>\n",
       "      <td>Private room</td>\n",
       "      <td>Sybilla Michelle</td>\n",
       "      <td>June 30 2019</td>\n",
       "    </tr>\n",
       "  </tbody>\n",
       "</table>\n",
       "</div>"
      ],
      "text/plain": [
       "       listing_id        price                nbhood_full description  \\\n",
       "4688      7851219   60 dollars     Brooklyn, Williamsburg         NaN   \n",
       "4690      7854307   60 dollars     Brooklyn, Williamsburg         NaN   \n",
       "4696      7858673   60 dollars     Brooklyn, Williamsburg         NaN   \n",
       "4707      7873655   60 dollars     Brooklyn, Williamsburg         NaN   \n",
       "4709      7886635   60 dollars     Brooklyn, Williamsburg         NaN   \n",
       "4717      7901635   60 dollars     Brooklyn, Williamsburg         NaN   \n",
       "4829      8192443   60 dollars     Brooklyn, Williamsburg         NaN   \n",
       "4901      8341556   55 dollars          Manhattan, Harlem         NaN   \n",
       "5496      9698992   62 dollars          Manhattan, Harlem         NaN   \n",
       "11986    21733545  175 dollars  Manhattan, Hell's Kitchen         NaN   \n",
       "\n",
       "          room_type         host_name   last_review  \n",
       "4688   PRIVATE ROOM              John  June 18 2019  \n",
       "4690   private room              John  June 15 2019  \n",
       "4696   Private room              John  June 08 2019  \n",
       "4707   PRIVATE ROOM              John  June 21 2019  \n",
       "4709   Private room              John  June 18 2019  \n",
       "4717   Private room              John  June 23 2019  \n",
       "4829   private room              John  June 23 2019  \n",
       "4901   Private room          Gordon M   May 26 2019  \n",
       "5496   private room          Gordon M  June 14 2019  \n",
       "11986  Private room  Sybilla Michelle  June 30 2019  "
      ]
     },
     "execution_count": 10,
     "metadata": {},
     "output_type": "execute_result"
    }
   ],
   "source": [
    "# Print the rows where description column is null (doesn't affect the analysis)\n",
    "df[df['description'].isna()]"
   ]
  },
  {
   "cell_type": "code",
   "execution_count": 11,
   "id": "14da8a5d-71ac-4a70-bfcb-281be5580733",
   "metadata": {
    "executionCancelledAt": null,
    "executionTime": 57,
    "lastExecutedAt": 1721820425277,
    "lastExecutedByKernel": "0465c626-023b-4e57-8e80-4f6b8334ba4d",
    "lastScheduledRunId": null,
    "lastSuccessfullyExecutedCode": "# Convert the last_review column to datetime format (day-month-year)\ndf['last_review'] = pd.to_datetime(df['last_review'], format='%B %d %Y')\ndf.head()",
    "outputsMetadata": {
     "0": {
      "height": 211,
      "type": "dataFrame"
     }
    }
   },
   "outputs": [
    {
     "data": {
      "text/html": [
       "<div>\n",
       "<style scoped>\n",
       "    .dataframe tbody tr th:only-of-type {\n",
       "        vertical-align: middle;\n",
       "    }\n",
       "\n",
       "    .dataframe tbody tr th {\n",
       "        vertical-align: top;\n",
       "    }\n",
       "\n",
       "    .dataframe thead th {\n",
       "        text-align: right;\n",
       "    }\n",
       "</style>\n",
       "<table border=\"1\" class=\"dataframe\">\n",
       "  <thead>\n",
       "    <tr style=\"text-align: right;\">\n",
       "      <th></th>\n",
       "      <th>listing_id</th>\n",
       "      <th>price</th>\n",
       "      <th>nbhood_full</th>\n",
       "      <th>description</th>\n",
       "      <th>room_type</th>\n",
       "      <th>host_name</th>\n",
       "      <th>last_review</th>\n",
       "    </tr>\n",
       "  </thead>\n",
       "  <tbody>\n",
       "    <tr>\n",
       "      <th>0</th>\n",
       "      <td>2595</td>\n",
       "      <td>225 dollars</td>\n",
       "      <td>Manhattan, Midtown</td>\n",
       "      <td>Skylit Midtown Castle</td>\n",
       "      <td>Entire home/apt</td>\n",
       "      <td>Jennifer</td>\n",
       "      <td>2019-05-21</td>\n",
       "    </tr>\n",
       "    <tr>\n",
       "      <th>1</th>\n",
       "      <td>3831</td>\n",
       "      <td>89 dollars</td>\n",
       "      <td>Brooklyn, Clinton Hill</td>\n",
       "      <td>Cozy Entire Floor of Brownstone</td>\n",
       "      <td>Entire home/apt</td>\n",
       "      <td>LisaRoxanne</td>\n",
       "      <td>2019-07-05</td>\n",
       "    </tr>\n",
       "    <tr>\n",
       "      <th>2</th>\n",
       "      <td>5099</td>\n",
       "      <td>200 dollars</td>\n",
       "      <td>Manhattan, Murray Hill</td>\n",
       "      <td>Large Cozy 1 BR Apartment In Midtown East</td>\n",
       "      <td>Entire home/apt</td>\n",
       "      <td>Chris</td>\n",
       "      <td>2019-06-22</td>\n",
       "    </tr>\n",
       "    <tr>\n",
       "      <th>3</th>\n",
       "      <td>5178</td>\n",
       "      <td>79 dollars</td>\n",
       "      <td>Manhattan, Hell's Kitchen</td>\n",
       "      <td>Large Furnished Room Near B'way</td>\n",
       "      <td>private room</td>\n",
       "      <td>Shunichi</td>\n",
       "      <td>2019-06-24</td>\n",
       "    </tr>\n",
       "    <tr>\n",
       "      <th>4</th>\n",
       "      <td>5238</td>\n",
       "      <td>150 dollars</td>\n",
       "      <td>Manhattan, Chinatown</td>\n",
       "      <td>Cute &amp; Cozy Lower East Side 1 bdrm</td>\n",
       "      <td>Entire home/apt</td>\n",
       "      <td>Ben</td>\n",
       "      <td>2019-06-09</td>\n",
       "    </tr>\n",
       "  </tbody>\n",
       "</table>\n",
       "</div>"
      ],
      "text/plain": [
       "   listing_id        price                nbhood_full  \\\n",
       "0        2595  225 dollars         Manhattan, Midtown   \n",
       "1        3831   89 dollars     Brooklyn, Clinton Hill   \n",
       "2        5099  200 dollars     Manhattan, Murray Hill   \n",
       "3        5178   79 dollars  Manhattan, Hell's Kitchen   \n",
       "4        5238  150 dollars       Manhattan, Chinatown   \n",
       "\n",
       "                                 description        room_type    host_name  \\\n",
       "0                      Skylit Midtown Castle  Entire home/apt     Jennifer   \n",
       "1            Cozy Entire Floor of Brownstone  Entire home/apt  LisaRoxanne   \n",
       "2  Large Cozy 1 BR Apartment In Midtown East  Entire home/apt        Chris   \n",
       "3            Large Furnished Room Near B'way     private room     Shunichi   \n",
       "4         Cute & Cozy Lower East Side 1 bdrm  Entire home/apt          Ben   \n",
       "\n",
       "  last_review  \n",
       "0  2019-05-21  \n",
       "1  2019-07-05  \n",
       "2  2019-06-22  \n",
       "3  2019-06-24  \n",
       "4  2019-06-09  "
      ]
     },
     "execution_count": 11,
     "metadata": {},
     "output_type": "execute_result"
    }
   ],
   "source": [
    "# Convert the last_review column to datetime format (day-month-year)\n",
    "df['last_review'] = pd.to_datetime(df['last_review'], format='%B %d %Y')\n",
    "df.head()"
   ]
  },
  {
   "cell_type": "code",
   "execution_count": 12,
   "id": "767987b7-08da-47a9-815d-d1a5f07e338a",
   "metadata": {
    "executionCancelledAt": null,
    "executionTime": 76,
    "lastExecutedAt": 1721820425353,
    "lastExecutedByKernel": "0465c626-023b-4e57-8e80-4f6b8334ba4d",
    "lastScheduledRunId": null,
    "lastSuccessfullyExecutedCode": "# convert the price column to float datatype \ndf[\"price\"] = df[\"price\"].str.replace(\"dollars\", \"\").str.strip() # run it only once\ndf[\"price\"] = df[\"price\"].astype(\"float\")\ndf.head()",
    "outputsMetadata": {
     "0": {
      "height": 211,
      "type": "dataFrame"
     }
    }
   },
   "outputs": [
    {
     "data": {
      "text/html": [
       "<div>\n",
       "<style scoped>\n",
       "    .dataframe tbody tr th:only-of-type {\n",
       "        vertical-align: middle;\n",
       "    }\n",
       "\n",
       "    .dataframe tbody tr th {\n",
       "        vertical-align: top;\n",
       "    }\n",
       "\n",
       "    .dataframe thead th {\n",
       "        text-align: right;\n",
       "    }\n",
       "</style>\n",
       "<table border=\"1\" class=\"dataframe\">\n",
       "  <thead>\n",
       "    <tr style=\"text-align: right;\">\n",
       "      <th></th>\n",
       "      <th>listing_id</th>\n",
       "      <th>price</th>\n",
       "      <th>nbhood_full</th>\n",
       "      <th>description</th>\n",
       "      <th>room_type</th>\n",
       "      <th>host_name</th>\n",
       "      <th>last_review</th>\n",
       "    </tr>\n",
       "  </thead>\n",
       "  <tbody>\n",
       "    <tr>\n",
       "      <th>0</th>\n",
       "      <td>2595</td>\n",
       "      <td>225.0</td>\n",
       "      <td>Manhattan, Midtown</td>\n",
       "      <td>Skylit Midtown Castle</td>\n",
       "      <td>Entire home/apt</td>\n",
       "      <td>Jennifer</td>\n",
       "      <td>2019-05-21</td>\n",
       "    </tr>\n",
       "    <tr>\n",
       "      <th>1</th>\n",
       "      <td>3831</td>\n",
       "      <td>89.0</td>\n",
       "      <td>Brooklyn, Clinton Hill</td>\n",
       "      <td>Cozy Entire Floor of Brownstone</td>\n",
       "      <td>Entire home/apt</td>\n",
       "      <td>LisaRoxanne</td>\n",
       "      <td>2019-07-05</td>\n",
       "    </tr>\n",
       "    <tr>\n",
       "      <th>2</th>\n",
       "      <td>5099</td>\n",
       "      <td>200.0</td>\n",
       "      <td>Manhattan, Murray Hill</td>\n",
       "      <td>Large Cozy 1 BR Apartment In Midtown East</td>\n",
       "      <td>Entire home/apt</td>\n",
       "      <td>Chris</td>\n",
       "      <td>2019-06-22</td>\n",
       "    </tr>\n",
       "    <tr>\n",
       "      <th>3</th>\n",
       "      <td>5178</td>\n",
       "      <td>79.0</td>\n",
       "      <td>Manhattan, Hell's Kitchen</td>\n",
       "      <td>Large Furnished Room Near B'way</td>\n",
       "      <td>private room</td>\n",
       "      <td>Shunichi</td>\n",
       "      <td>2019-06-24</td>\n",
       "    </tr>\n",
       "    <tr>\n",
       "      <th>4</th>\n",
       "      <td>5238</td>\n",
       "      <td>150.0</td>\n",
       "      <td>Manhattan, Chinatown</td>\n",
       "      <td>Cute &amp; Cozy Lower East Side 1 bdrm</td>\n",
       "      <td>Entire home/apt</td>\n",
       "      <td>Ben</td>\n",
       "      <td>2019-06-09</td>\n",
       "    </tr>\n",
       "  </tbody>\n",
       "</table>\n",
       "</div>"
      ],
      "text/plain": [
       "   listing_id  price                nbhood_full  \\\n",
       "0        2595  225.0         Manhattan, Midtown   \n",
       "1        3831   89.0     Brooklyn, Clinton Hill   \n",
       "2        5099  200.0     Manhattan, Murray Hill   \n",
       "3        5178   79.0  Manhattan, Hell's Kitchen   \n",
       "4        5238  150.0       Manhattan, Chinatown   \n",
       "\n",
       "                                 description        room_type    host_name  \\\n",
       "0                      Skylit Midtown Castle  Entire home/apt     Jennifer   \n",
       "1            Cozy Entire Floor of Brownstone  Entire home/apt  LisaRoxanne   \n",
       "2  Large Cozy 1 BR Apartment In Midtown East  Entire home/apt        Chris   \n",
       "3            Large Furnished Room Near B'way     private room     Shunichi   \n",
       "4         Cute & Cozy Lower East Side 1 bdrm  Entire home/apt          Ben   \n",
       "\n",
       "  last_review  \n",
       "0  2019-05-21  \n",
       "1  2019-07-05  \n",
       "2  2019-06-22  \n",
       "3  2019-06-24  \n",
       "4  2019-06-09  "
      ]
     },
     "execution_count": 12,
     "metadata": {},
     "output_type": "execute_result"
    }
   ],
   "source": [
    "# convert the price column to float datatype \n",
    "df[\"price\"] = df[\"price\"].str.replace(\"dollars\", \"\").str.strip() # run it only once\n",
    "df[\"price\"] = df[\"price\"].astype(\"float\")\n",
    "df.head()"
   ]
  },
  {
   "cell_type": "code",
   "execution_count": 13,
   "id": "80859f80-f400-4ab7-b824-df1212c7dfba",
   "metadata": {
    "executionCancelledAt": null,
    "executionTime": null,
    "lastExecutedAt": null,
    "lastExecutedByKernel": null,
    "lastScheduledRunId": null,
    "lastSuccessfullyExecutedCode": null,
    "outputsMetadata": {
     "0": {
      "height": 294,
      "type": "dataFrame"
     }
    }
   },
   "outputs": [
    {
     "data": {
      "text/plain": [
       "Entire home/apt    8458\n",
       "Private room       7241\n",
       "entire home/apt    2665\n",
       "private room       2248\n",
       "ENTIRE HOME/APT    2143\n",
       "PRIVATE ROOM       1867\n",
       "Shared room         380\n",
       "shared room         110\n",
       "SHARED ROOM          97\n",
       "Name: room_type, dtype: int64"
      ]
     },
     "execution_count": 13,
     "metadata": {},
     "output_type": "execute_result"
    }
   ],
   "source": [
    "# look at the distrbution of values in the room_type column \n",
    "df[\"room_type\"].value_counts()"
   ]
  },
  {
   "cell_type": "code",
   "execution_count": 14,
   "id": "2ca951a2-1a3f-4e12-99e4-abc68cb6d6aa",
   "metadata": {
    "executionCancelledAt": null,
    "executionTime": null,
    "lastExecutedAt": null,
    "lastExecutedByKernel": null,
    "lastScheduledRunId": null,
    "lastSuccessfullyExecutedCode": null,
    "outputsMetadata": {
     "0": {
      "height": 145,
      "type": "dataFrame"
     }
    }
   },
   "outputs": [
    {
     "data": {
      "text/plain": [
       "entire home/apt    13266\n",
       "private room       11356\n",
       "shared room          587\n",
       "Name: room_type, dtype: int64"
      ]
     },
     "execution_count": 14,
     "metadata": {},
     "output_type": "execute_result"
    }
   ],
   "source": [
    "# there is capitalization problem in the room_type column\n",
    "df['room_type'] = df['room_type'].str.lower()\n",
    "df[\"room_type\"].value_counts()"
   ]
  },
  {
   "cell_type": "markdown",
   "id": "342c08f4-7b61-4608-b129-e22b85ab6e38",
   "metadata": {},
   "source": [
    "## What are the dates of the earliest and most recent reviews? Store these values as two separate variables with your preferred names."
   ]
  },
  {
   "cell_type": "code",
   "execution_count": 15,
   "id": "233556a8-0a1e-4886-9b72-5d6446c74d23",
   "metadata": {
    "executionCancelledAt": null,
    "executionTime": 52,
    "lastExecutedAt": 1721820425516,
    "lastExecutedByKernel": "0465c626-023b-4e57-8e80-4f6b8334ba4d",
    "lastScheduledRunId": null,
    "lastSuccessfullyExecutedCode": "# Sort the dataframe by last_review in ascending order and take the earliest date\nfirst_reviewed = df.sort_values(by='last_review', ascending=True).iloc[0]['last_review']\nfirst_reviewed",
    "outputsMetadata": {
     "0": {
      "height": 194,
      "type": "dataFrame"
     }
    }
   },
   "outputs": [
    {
     "data": {
      "text/plain": [
       "Timestamp('2019-01-01 00:00:00')"
      ]
     },
     "execution_count": 15,
     "metadata": {},
     "output_type": "execute_result"
    }
   ],
   "source": [
    "# Sort the dataframe by last_review in ascending order and take the earliest date\n",
    "first_reviewed = df.sort_values(by='last_review', ascending=True).iloc[0]['last_review']\n",
    "first_reviewed"
   ]
  },
  {
   "cell_type": "code",
   "execution_count": 16,
   "id": "01ef5f53-c7ea-4765-97d0-565eff7af6f8",
   "metadata": {
    "executionCancelledAt": null,
    "executionTime": 48,
    "lastExecutedAt": 1721820425564,
    "lastExecutedByKernel": "0465c626-023b-4e57-8e80-4f6b8334ba4d",
    "lastScheduledRunId": null,
    "lastSuccessfullyExecutedCode": "# Sort the dataframe by last_review in ascending order and take the most recent date\nlast_reviewed = df.sort_values(by='last_review', ascending=False).iloc[0]['last_review']\nlast_reviewed"
   },
   "outputs": [
    {
     "data": {
      "text/plain": [
       "Timestamp('2019-07-09 00:00:00')"
      ]
     },
     "execution_count": 16,
     "metadata": {},
     "output_type": "execute_result"
    }
   ],
   "source": [
    "# Sort the dataframe by last_review in ascending order and take the most recent date\n",
    "last_reviewed = df.sort_values(by='last_review', ascending=False).iloc[0]['last_review']\n",
    "last_reviewed"
   ]
  },
  {
   "cell_type": "code",
   "execution_count": 17,
   "id": "716d6a3b-a81c-4d0e-992f-220d79bec066",
   "metadata": {
    "executionCancelledAt": null,
    "executionTime": 3840,
    "lastExecutedAt": 1721820429404,
    "lastExecutedByKernel": "0465c626-023b-4e57-8e80-4f6b8334ba4d",
    "lastScheduledRunId": null,
    "lastSuccessfullyExecutedCode": "# Set the figure size for better readability, Create a lineplot\nplt.figure(figsize=(12, 6))\nsns.lineplot(data=df, x='last_review', y=df.index)\n\n# Set the title and labels\nplt.title('Lineplot of Reviews Over Time')\nplt.xlabel('Date of Last Review')\nplt.ylabel('Index')\nplt.xticks(rotation=45)\nplt.show()"
   },
   "outputs": [
    {
     "data": {
      "image/png": "[encoded data removed]",
      "text/plain": [
       "<Figure size 1200x600 with 1 Axes>"
      ]
     },
     "metadata": {},
     "output_type": "display_data"
    }
   ],
   "source": [
    "# Set the figure size for better readability, Create a lineplot\n",
    "plt.figure(figsize=(12, 6))\n",
    "sns.lineplot(data=df, x='last_review', y=df.index)\n",
    "\n",
    "# Set the title and labels\n",
    "plt.title('Lineplot of Reviews Over Time')\n",
    "plt.xlabel('Date of Last Review')\n",
    "plt.ylabel('Index')\n",
    "plt.xticks(rotation=45)\n",
    "plt.show()"
   ]
  },
  {
   "cell_type": "markdown",
   "id": "d69510b8-de92-4a4f-a366-2c602c406cff",
   "metadata": {},
   "source": [
    "## How many of the listings are private rooms? Save this into any variable."
   ]
  },
  {
   "cell_type": "code",
   "execution_count": 18,
   "id": "20b72bcb-cc0f-4e66-b2df-f70005715ab7",
   "metadata": {
    "executionCancelledAt": null,
    "executionTime": 58,
    "lastExecutedAt": 1721820429462,
    "lastExecutedByKernel": "0465c626-023b-4e57-8e80-4f6b8334ba4d",
    "lastScheduledRunId": null,
    "lastSuccessfullyExecutedCode": "# look at the room_type column distrbution\ndf[\"room_type\"].value_counts(dropna=False)",
    "outputsMetadata": {
     "0": {
      "height": 145,
      "type": "dataFrame"
     }
    }
   },
   "outputs": [
    {
     "data": {
      "text/plain": [
       "entire home/apt    13266\n",
       "private room       11356\n",
       "shared room          587\n",
       "Name: room_type, dtype: int64"
      ]
     },
     "execution_count": 18,
     "metadata": {},
     "output_type": "execute_result"
    }
   ],
   "source": [
    "# look at the room_type column distrbution\n",
    "df[\"room_type\"].value_counts(dropna=False)"
   ]
  },
  {
   "cell_type": "code",
   "execution_count": 19,
   "id": "8348b785-97d8-4ad0-9e16-c78a9c0eeefd",
   "metadata": {
    "executionCancelledAt": null,
    "executionTime": 297,
    "lastExecutedAt": 1721820429759,
    "lastExecutedByKernel": "0465c626-023b-4e57-8e80-4f6b8334ba4d",
    "lastScheduledRunId": null,
    "lastSuccessfullyExecutedCode": "# Get the value counts of room_type\nroom_type_counts = df[\"room_type\"].value_counts(dropna=False).reset_index()\nroom_type_counts.columns = ['room_type', 'count']\n\n# Create a seaborn barplot\nplt.figure(figsize=(10, 6))\nsns.barplot(x='room_type', y='count', data=room_type_counts)\nplt.title('Distribution of Room Types')\nplt.xlabel('Room Type')\nplt.ylabel('Count')\nplt.xticks(rotation=45)\nplt.show()"
   },
   "outputs": [
    {
     "data": {
      "image/png": "[encoded data removed]",
      "text/plain": [
       "<Figure size 1000x600 with 1 Axes>"
      ]
     },
     "metadata": {},
     "output_type": "display_data"
    }
   ],
   "source": [
    "# Get the value counts of room_type\n",
    "room_type_counts = df[\"room_type\"].value_counts(dropna=False).reset_index()\n",
    "room_type_counts.columns = ['room_type', 'count']\n",
    "\n",
    "# Create a seaborn barplot\n",
    "plt.figure(figsize=(10, 6))\n",
    "sns.barplot(x='room_type', y='count', data=room_type_counts)\n",
    "plt.title('Distribution of Room Types')\n",
    "plt.xlabel('Room Type')\n",
    "plt.ylabel('Count')\n",
    "plt.xticks(rotation=45)\n",
    "plt.show()"
   ]
  },
  {
   "cell_type": "code",
   "execution_count": 20,
   "id": "502bab8a-6a28-4bd4-9332-8ffee89f7bb8",
   "metadata": {
    "executionCancelledAt": null,
    "executionTime": 53,
    "lastExecutedAt": 1721820429812,
    "lastExecutedByKernel": "0465c626-023b-4e57-8e80-4f6b8334ba4d",
    "lastScheduledRunId": null,
    "lastSuccessfullyExecutedCode": "# extrect number of Private room exist in the dataframe\nnb_private_rooms = df[\"room_type\"].value_counts(dropna=False).loc[\"private room\"]\nnb_private_rooms"
   },
   "outputs": [
    {
     "data": {
      "text/plain": [
       "11356"
      ]
     },
     "execution_count": 20,
     "metadata": {},
     "output_type": "execute_result"
    }
   ],
   "source": [
    "# extrect number of Private room exist in the dataframe\n",
    "nb_private_rooms = df[\"room_type\"].value_counts(dropna=False).loc[\"private room\"]\n",
    "nb_private_rooms"
   ]
  },
  {
   "cell_type": "markdown",
   "id": "166afb9d-aef0-4401-b8fe-58ee94c6713f",
   "metadata": {},
   "source": [
    "## What is the average listing price? Round to the nearest two decimal places and save into a variable."
   ]
  },
  {
   "cell_type": "code",
   "execution_count": 21,
   "id": "660e8240-e0da-4b8a-a6d6-63e7152f4aed",
   "metadata": {
    "executionCancelledAt": null,
    "executionTime": 52,
    "lastExecutedAt": 1721820429864,
    "lastExecutedByKernel": "0465c626-023b-4e57-8e80-4f6b8334ba4d",
    "lastScheduledRunId": null,
    "lastSuccessfullyExecutedCode": "# get the average listing price of the whole dataframe\navg_price = df[\"price\"].mean().round(2)\navg_price",
    "outputsMetadata": {
     "0": {
      "height": 335,
      "type": "dataFrame"
     }
    }
   },
   "outputs": [
    {
     "data": {
      "text/plain": [
       "141.7779364512674"
      ]
     },
     "execution_count": 21,
     "metadata": {},
     "output_type": "execute_result"
    }
   ],
   "source": [
    "# get the average listing price of the whole dataframe\n",
    "avg_price = df[\"price\"].mean()\n",
    "avg_price"
   ]
  },
  {
   "cell_type": "code",
   "execution_count": 22,
   "id": "b3c5bfe2-6bb5-4371-95ff-89db585b76d7",
   "metadata": {
    "executionCancelledAt": null,
    "executionTime": 2536,
    "lastExecutedAt": 1721820432400,
    "lastExecutedByKernel": "0465c626-023b-4e57-8e80-4f6b8334ba4d",
    "lastScheduledRunId": null,
    "lastSuccessfullyExecutedCode": "# Create a seaborn distribution plot for the avg_price column\nplt.figure(figsize=(10, 6))\nsns.histplot(df[\"price\"], kde=True)\nplt.title('Distribution of Listing Prices')\nplt.xlabel('Price')\nplt.ylabel('Frequency')\nplt.show()"
   },
   "outputs": [
    {
     "data": {
      "image/png": "[encoded data removed]",
      "text/plain": [
       "<Figure size 1000x600 with 1 Axes>"
      ]
     },
     "metadata": {},
     "output_type": "display_data"
    }
   ],
   "source": [
    "# Create a seaborn distribution plot for the avg_price column\n",
    "plt.figure(figsize=(10, 6))\n",
    "sns.histplot(df[\"price\"], kde=True)\n",
    "plt.title('Distribution of Listing Prices')\n",
    "plt.xlabel('Price')\n",
    "plt.ylabel('Frequency')\n",
    "plt.show()"
   ]
  },
  {
   "cell_type": "markdown",
   "id": "7e1255c7",
   "metadata": {},
   "source": [
    "## Create the needed dataframe "
   ]
  },
  {
   "cell_type": "code",
   "execution_count": 23,
   "id": "f760320c-00f0-4863-a9b4-2aafa40ccb6f",
   "metadata": {
    "executionCancelledAt": null,
    "executionTime": 57,
    "lastExecutedAt": 1721820432457,
    "lastExecutedByKernel": "0465c626-023b-4e57-8e80-4f6b8334ba4d",
    "lastScheduledRunId": null,
    "lastSuccessfullyExecutedCode": "review_dates = pd.DataFrame({\n    'first_reviewed': [first_reviewed],\n    'last_reviewed': [last_reviewed],\n    'nb_private_rooms': [nb_private_rooms],\n    'avg_price': [round(avg_price, 2)]\n})\nreview_dates",
    "outputsMetadata": {
     "0": {
      "height": 95,
      "type": "dataFrame"
     }
    }
   },
   "outputs": [
    {
     "data": {
      "text/html": [
       "<div>\n",
       "<style scoped>\n",
       "    .dataframe tbody tr th:only-of-type {\n",
       "        vertical-align: middle;\n",
       "    }\n",
       "\n",
       "    .dataframe tbody tr th {\n",
       "        vertical-align: top;\n",
       "    }\n",
       "\n",
       "    .dataframe thead th {\n",
       "        text-align: right;\n",
       "    }\n",
       "</style>\n",
       "<table border=\"1\" class=\"dataframe\">\n",
       "  <thead>\n",
       "    <tr style=\"text-align: right;\">\n",
       "      <th></th>\n",
       "      <th>first_reviewed</th>\n",
       "      <th>last_reviewed</th>\n",
       "      <th>nb_private_rooms</th>\n",
       "      <th>avg_price</th>\n",
       "    </tr>\n",
       "  </thead>\n",
       "  <tbody>\n",
       "    <tr>\n",
       "      <th>0</th>\n",
       "      <td>2019-01-01</td>\n",
       "      <td>2019-07-09</td>\n",
       "      <td>11356</td>\n",
       "      <td>141.78</td>\n",
       "    </tr>\n",
       "  </tbody>\n",
       "</table>\n",
       "</div>"
      ],
      "text/plain": [
       "  first_reviewed last_reviewed  nb_private_rooms  avg_price\n",
       "0     2019-01-01    2019-07-09             11356     141.78"
      ]
     },
     "execution_count": 23,
     "metadata": {},
     "output_type": "execute_result"
    }
   ],
   "source": [
    "review_dates = pd.DataFrame({\n",
    "    'first_reviewed': [first_reviewed],\n",
    "    'last_reviewed': [last_reviewed],\n",
    "    'nb_private_rooms': [nb_private_rooms],\n",
    "    'avg_price': [round(avg_price, 2)]\n",
    "})\n",
    "review_dates"
   ]
  },
  {
   "cell_type": "markdown",
   "id": "8511d58f-956c-489f-80ab-9e7b0674d16f",
   "metadata": {
    "executionCancelledAt": null,
    "executionTime": 48,
    "lastExecutedAt": 1721818813300,
    "lastExecutedByKernel": "0465c626-023b-4e57-8e80-4f6b8334ba4d",
    "lastScheduledRunId": null,
    "lastSuccessfullyExecutedCode": ""
   },
   "source": [
    "# Please do not forget to share the support with a love on the project"
   ]
  }
 ],
 "metadata": {
  "colab": {
   "name": "Welcome to DataCamp Workspaces.ipynb",
   "provenance": []
  },
  "editor": "DataLab",
  "kernelspec": {
   "display_name": "Python 3 (ipykernel)",
   "language": "python",
   "name": "python3"
  },
  "language_info": {
   "codemirror_mode": {
    "name": "ipython",
    "version": 3
   },
   "file_extension": ".py",
   "mimetype": "text/x-python",
   "name": "python",
   "nbconvert_exporter": "python",
   "pygments_lexer": "ipython3",
   "version": "3.9.13"
  }
 },
 "nbformat": 4,
 "nbformat_minor": 5
}
